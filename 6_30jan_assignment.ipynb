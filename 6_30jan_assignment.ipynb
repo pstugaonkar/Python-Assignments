{
 "cells": [
  {
   "cell_type": "code",
   "execution_count": 16,
   "id": "96320368-5956-4088-856e-0f1c94f07539",
   "metadata": {},
   "outputs": [
    {
     "name": "stdin",
     "output_type": "stream",
     "text": [
      "What is your percentage:  56\n"
     ]
    },
    {
     "name": "stdout",
     "output_type": "stream",
     "text": [
      "56.0 belongs to Grade D\n"
     ]
    }
   ],
   "source": [
    "'''\n",
    "Q1. Write a program to accept percentage from the user and display the grade\n",
    "according to the following criteria:\n",
    ">90 - A\n",
    ">80 and <=90 - B\n",
    ">=60 and <=80 - C\n",
    "below 60 - D\n",
    "'''\n",
    "'''ANSWER'''\n",
    "percentage = float(input(\"What is your percentage: \"))\n",
    "if percentage > 90.0:\n",
    "    print(percentage,'belongs to','Grade A')\n",
    "elif 90>= percentage > 80:\n",
    "    print(percentage,'belongs to', 'Grade B')\n",
    "elif 80>= percentage >= 60:\n",
    "    print(percentage,'belongs to', 'Grade C')\n",
    "else:\n",
    "    print(percentage,'belongs to', 'Grade D')"
   ]
  },
  {
   "cell_type": "code",
   "execution_count": 22,
   "id": "c0fb334f-8916-407b-a2cc-86074a95f1e3",
   "metadata": {},
   "outputs": [
    {
     "name": "stdin",
     "output_type": "stream",
     "text": [
      "Cost of bike:  49999.99\n"
     ]
    },
    {
     "name": "stdout",
     "output_type": "stream",
     "text": [
      "You have to pay 5 % tax on your cost price of bike.\n"
     ]
    }
   ],
   "source": [
    "'''\n",
    "Q2. Write a program to accept the cost price of a bike and display the road\n",
    "tax to be paid according to the following criteria:\n",
    "15% - >100000\n",
    "10% - >50000 and <=100000\n",
    "5% - <=50000\n",
    "'''\n",
    "cob = float(input(\"Cost of bike: \"))\n",
    "if cob>100000:\n",
    "    tax = 15\n",
    "elif 100000>=cob>50000:\n",
    "    tax = 10\n",
    "elif cob<=50000:\n",
    "    tax = 5\n",
    "    \n",
    "print(\"You have to pay\",tax,'%', \"tax on your cost price of bike.\")"
   ]
  },
  {
   "cell_type": "code",
   "execution_count": 24,
   "id": "3497c9b9-08d9-4ff0-a2d1-c606ec379cfe",
   "metadata": {},
   "outputs": [
    {
     "name": "stdin",
     "output_type": "stream",
     "text": [
      "Your Destination: Jaipur\n"
     ]
    },
    {
     "name": "stdout",
     "output_type": "stream",
     "text": [
      "You can visit 'Hava Mahal'.\n"
     ]
    }
   ],
   "source": [
    "'''\n",
    "Q3. Accept any city from the user and display monuments of that city.\n",
    "\n",
    "Delhi - Red Fort\n",
    "Agra - Taj Mahal\n",
    "Jaipur - Hava Mahal\n",
    "'''\n",
    "city = input(\"Your Destination:\")\n",
    "\n",
    "if city == 'Delhi':\n",
    "    print(\"You can visit 'Red Fort'.\")\n",
    "elif city == 'Agra':\n",
    "    print(\"You can visit 'Taj Mahal'.\")\n",
    "elif city == 'Jaipur':\n",
    "    print(\"You can visit 'Hava Mahal'.\")"
   ]
  },
  {
   "cell_type": "code",
   "execution_count": 38,
   "id": "6b18313a-8841-4fac-866d-fe451c0d771a",
   "metadata": {},
   "outputs": [
    {
     "name": "stdin",
     "output_type": "stream",
     "text": [
      "Number: 44\n"
     ]
    },
    {
     "name": "stdout",
     "output_type": "stream",
     "text": [
      "44 can be divided 2 times by 3 before it is less than or equal to 10\n"
     ]
    }
   ],
   "source": [
    "'''\n",
    "Q4. Check how many times a given number can be divided by 3 before it is less\n",
    "than or equal to 10.\n",
    "'''\n",
    "Number = int(input(\"Number:\"))\n",
    "n = Number\n",
    "count = 0\n",
    "if n<=10:\n",
    "    print(\"Expected number greater than 10\")\n",
    "else:\n",
    "    while n>10:\n",
    "        n = n/3\n",
    "        count += 1\n",
    "    print(Number,\"can be divided\",count,\"times by 3 before it is less than or equal to 10\")"
   ]
  },
  {
   "cell_type": "code",
   "execution_count": 2,
   "id": "7633d4f7-6d35-4a4e-a6e8-835192411ea9",
   "metadata": {},
   "outputs": [
    {
     "name": "stdout",
     "output_type": "stream",
     "text": [
      "0\n",
      "1\n",
      "2\n",
      "3\n",
      "4\n",
      "5\n",
      "6\n",
      "7\n",
      "8\n",
      "9\n",
      "10\n",
      "11\n",
      "12\n",
      "13\n",
      "14\n",
      "15\n",
      "16\n",
      "17\n",
      "18\n",
      "19\n",
      "20\n",
      "21\n",
      "22\n",
      "23\n",
      "24\n",
      "25\n",
      "26\n",
      "27\n",
      "28\n",
      "29\n",
      "30\n",
      "31\n",
      "32\n",
      "33\n",
      "34\n",
      "35\n",
      "36\n",
      "37\n",
      "38\n",
      "39\n",
      "40\n",
      "41\n",
      "42\n",
      "43\n",
      "44\n",
      "45\n",
      "46\n",
      "47\n",
      "48\n",
      "49\n",
      "50\n",
      "51\n",
      "52\n",
      "53\n",
      "54\n",
      "55\n",
      "56\n",
      "57\n",
      "58\n",
      "59\n",
      "60\n",
      "61\n",
      "62\n",
      "63\n",
      "64\n",
      "65\n",
      "66\n",
      "67\n",
      "68\n",
      "69\n",
      "70\n",
      "71\n",
      "72\n",
      "73\n",
      "74\n",
      "75\n",
      "76\n",
      "77\n",
      "78\n",
      "79\n",
      "80\n",
      "81\n",
      "82\n",
      "83\n",
      "84\n",
      "85\n",
      "86\n",
      "87\n",
      "88\n",
      "89\n",
      "90\n",
      "91\n",
      "92\n",
      "93\n",
      "94\n",
      "95\n",
      "96\n",
      "97\n",
      "98\n",
      "99\n"
     ]
    },
    {
     "data": {
      "text/plain": [
       "\"\\nThe above mentioned while loop will provide numbers from 0 to 99.\\nbut we changed condition to 'while True' then it will run continuously \\nand start printing values from 0 to infinity. Since, we have added condition\\nn<100, as n reaches 100 loop breaks and it will not produce any further values.\\n\""
      ]
     },
     "execution_count": 2,
     "metadata": {},
     "output_type": "execute_result"
    }
   ],
   "source": [
    "'''\n",
    "Q5. Why and when to use while loop in python give detailed description with \n",
    "example.\n",
    "'''\n",
    "'''ANSWER'''\n",
    "'''\n",
    "While loop is used when we do not know how many iterations are needed in given\n",
    "code for the output. In we must provide some condition otherwise while loop will\n",
    "be running limitless iterations, which will inventually crash our system.\n",
    "Therefore, until the given condition statisfied, while loop will be run.\n",
    "Then, it will break and give us output.\n",
    "'''\n",
    "n = 0\n",
    "while n<100:\n",
    "    print(n)\n",
    "    n = n+1\n",
    "'''\n",
    "The above mentioned while loop will provide numbers from 0 to 99.\n",
    "but we changed condition to 'while True' then it will run continuously \n",
    "and start printing values from 0 to infinity. Since, we have added condition\n",
    "n<100, as n reaches 100 loop breaks and it will not produce any further values.\n",
    "'''\n",
    "\n",
    "\n"
   ]
  },
  {
   "cell_type": "code",
   "execution_count": 67,
   "id": "9d176660-ba36-4836-9283-c63072f0d2f8",
   "metadata": {},
   "outputs": [
    {
     "name": "stdout",
     "output_type": "stream",
     "text": [
      "(1)\n",
      "1\n",
      "22\n",
      "333\n",
      "4444\n",
      "55555\n",
      "666666\n",
      "7777777\n",
      "88888888\n",
      "999999999\n",
      "(2)\n",
      "10101010101010101010\n",
      "999999999\n",
      "88888888\n",
      "7777777\n",
      "666666\n",
      "55555\n",
      "4444\n",
      "333\n",
      "22\n",
      "1\n",
      "(3)\n",
      "10101010101010101010\n",
      "9999999999\n",
      "8888888888\n",
      "7777777777\n",
      "6666666666\n",
      "5555555555\n",
      "4444444444\n",
      "3333333333\n",
      "2222222222\n",
      "1111111111\n"
     ]
    }
   ],
   "source": [
    "'''\n",
    "Q6. Use nested while loop to print 3 different pattern.\n",
    "'''\n",
    "'''ANSWER'''\n",
    "print(\"(1)\")\n",
    "i = 1\n",
    "while i <10:\n",
    "    j = 1\n",
    "    while j <i:\n",
    "        print(i, end ='')\n",
    "        j = j + 1\n",
    "    print(j)\n",
    "    i = i+1  \n",
    "print(\"(2)\")\n",
    "i = 10\n",
    "while i > 0:\n",
    "    j = 10\n",
    "    while j > 10-i:\n",
    "        print(i,end='')\n",
    "        j = j-1\n",
    "        \n",
    "    print('')\n",
    "    i = i - 1\n",
    "print(\"(3)\")   \n",
    "i = 10\n",
    "while i > 0:\n",
    "    j = 10\n",
    "    while j > 0:\n",
    "        print(i,end='')\n",
    "        j = j-1\n",
    "        \n",
    "    print('')\n",
    "    i = i - 1"
   ]
  },
  {
   "cell_type": "code",
   "execution_count": 68,
   "id": "9d5460eb-c0ef-4fbf-a96a-27ec4de9b755",
   "metadata": {},
   "outputs": [
    {
     "name": "stdout",
     "output_type": "stream",
     "text": [
      "10\n",
      "9\n",
      "8\n",
      "7\n",
      "6\n",
      "5\n",
      "4\n",
      "3\n",
      "2\n",
      "1\n"
     ]
    }
   ],
   "source": [
    "'''\n",
    "Q7. Reverse a while loop to display numbers from 10 to 1.\n",
    "'''\n",
    "'''ANSWER'''\n",
    "i = 10\n",
    "while i > 0:\n",
    "    print(i)\n",
    "    i = i - 1"
   ]
  },
  {
   "cell_type": "code",
   "execution_count": 70,
   "id": "c56b37af-235b-42db-bab7-23acb4ad49f2",
   "metadata": {},
   "outputs": [
    {
     "name": "stdout",
     "output_type": "stream",
     "text": [
      "10\n",
      "9\n",
      "8\n",
      "7\n",
      "6\n",
      "5\n",
      "4\n",
      "3\n",
      "2\n",
      "1\n"
     ]
    }
   ],
   "source": [
    "'''\n",
    "Q8. Reverse a for loop to display numbers from 10 to 1.\n",
    "'''\n",
    "'''ANSWER'''\n",
    "for i in range(10,0,-1):\n",
    "    print(i)"
   ]
  },
  {
   "cell_type": "code",
   "execution_count": null,
   "id": "5aad8a5a-d27b-4494-91c8-ce6159d3d15f",
   "metadata": {},
   "outputs": [],
   "source": []
  },
  {
   "cell_type": "code",
   "execution_count": null,
   "id": "c2399e76-b148-49fd-84b4-9f5605bf0d92",
   "metadata": {},
   "outputs": [],
   "source": []
  }
 ],
 "metadata": {
  "kernelspec": {
   "display_name": "Python 3 (ipykernel)",
   "language": "python",
   "name": "python3"
  },
  "language_info": {
   "codemirror_mode": {
    "name": "ipython",
    "version": 3
   },
   "file_extension": ".py",
   "mimetype": "text/x-python",
   "name": "python",
   "nbconvert_exporter": "python",
   "pygments_lexer": "ipython3",
   "version": "3.10.6"
  }
 },
 "nbformat": 4,
 "nbformat_minor": 5
}
