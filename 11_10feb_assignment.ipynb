{
 "cells": [
  {
   "cell_type": "code",
   "execution_count": 7,
   "id": "74f17f6a-d7ff-4109-945e-931337322999",
   "metadata": {},
   "outputs": [
    {
     "data": {
      "text/plain": [
       "\"\\n'open' function is used to open file in different modes.\\n'r' = In 'r' mode files are opened just for reading. This will return the\\ncontent of the file as it is.\\n'w' = In 'w' mode, whatever we provided as input, gets overwritten on initial \\ncontent present in the file. All the initial content get removed and new content\\nis written in the file.\\n'a' = In 'a' mode, new content is appended in the previous content of the file.\\n'b' = File is opened in binary mode.\\n\""
      ]
     },
     "execution_count": 7,
     "metadata": {},
     "output_type": "execute_result"
    }
   ],
   "source": [
    "'''\n",
    "Q1. Which function is used to open a file? What are the different modes of opening a file? Explain each mode\n",
    "of file opening.\n",
    "'''\n",
    "'''ANSWER'''\n",
    "'''\n",
    "'open' function is used to open file in different modes.\n",
    "'r' = In 'r' mode files are opened just for reading. This will return the\n",
    "content of the file as it is.\n",
    "'w' = In 'w' mode, whatever we provided as input, gets overwritten on initial \n",
    "content present in the file. All the initial content get removed and new content\n",
    "is written in the file.\n",
    "'a' = In 'a' mode, new content is appended in the previous content of the file.\n",
    "'b' = File is opened in binary mode.\n",
    "'''\n"
   ]
  },
  {
   "cell_type": "code",
   "execution_count": 6,
   "id": "df9d9cf1-d910-445f-ada2-4dd77bbdb170",
   "metadata": {},
   "outputs": [
    {
     "data": {
      "text/plain": [
       "'\\nClose() function is used to close the opened file.\\nIt is important to close the file as content will not be updated in the file\\nuntil we close the file.\\n'"
      ]
     },
     "execution_count": 6,
     "metadata": {},
     "output_type": "execute_result"
    }
   ],
   "source": [
    "'''\n",
    "Q2. Why close() function is used? Why is it important to close a file?\n",
    "'''\n",
    "'''ANSWER'''\n",
    "'''\n",
    "Close() function is used to close the opened file.\n",
    "It is important to close the file as content will not be updated in the file\n",
    "until we close the file.\n",
    "'''"
   ]
  },
  {
   "cell_type": "code",
   "execution_count": 10,
   "id": "93891f4f-2bd7-4a66-b964-179f465a28a4",
   "metadata": {},
   "outputs": [],
   "source": [
    "'''\n",
    "Q3. Write a python program to create a text file. Write ‘I want to become a Data Scientist’ in that file. Then\n",
    "close the file. Open this file and read the content of the file.\n",
    "'''\n",
    "'''ANSWER'''\n",
    "file = open(\"first_file.txt\",'w')\n",
    "file.write(\"I want to become a Data Scientist\\nwith good practice in 2023\")\n",
    "file.close()"
   ]
  },
  {
   "cell_type": "code",
   "execution_count": 36,
   "id": "3259a435-594a-4bd7-b078-c213a2ccccb8",
   "metadata": {},
   "outputs": [
    {
     "name": "stdout",
     "output_type": "stream",
     "text": [
      "read()\n",
      "I want to become a Data Scientist\n",
      "with good practice in 2023\n",
      "readline()\n",
      "\n",
      "readline()withseek()\n",
      "I want to become a Data Scientist\n",
      "\n",
      "readlines()\n",
      "['I want to become a Data Scientist\\n', 'with good practice in 2023']\n"
     ]
    }
   ],
   "source": [
    "'''\n",
    "Q4. Explain the following with python code: read(), readline() and readlines().\n",
    "'''\n",
    "'''ANSWER'''\n",
    "'''\n",
    "read method is used to read entire content in the file.'''\n",
    "print('read()')\n",
    "file = open(\"first_file.txt\",'r')\n",
    "print(file.read())\n",
    "'''\n",
    "readline method reads first line from content.\n",
    "'''\n",
    "print('readline()')\n",
    "print(file.readline())\n",
    "'''Now only realine will give blank because we have not defined pointer position.\n",
    "first we need to define pointer position with 'seek' function. Then it will just provide first line in the content\n",
    "'''\n",
    "file.seek(0)\n",
    "print('readline()withseek()')\n",
    "print(file.readline())\n",
    "\n",
    "'''\n",
    "readlines() method is used to read all the lines of a file into a list.\n",
    "'''\n",
    "file = open(\"first_file.txt\",'r')\n",
    "print('readlines()')\n",
    "print(file.readlines())"
   ]
  },
  {
   "cell_type": "code",
   "execution_count": 37,
   "id": "22b48bd1-394b-426d-b426-21223ba287c4",
   "metadata": {},
   "outputs": [
    {
     "data": {
      "text/plain": [
       "\"\\nopen() statement opens file and returns file object. But, it is necessary to ensure\\nthat after completing the file project, file need to be closed using 'close()' statement\\n\\n'with' statement takes care for this. 'with open()' statement opens and closes file\\nafter execution of code.\\n\\nWe don't need to call 'close()' statement every time for any new code execution.\\nThat is the advantage of 'with open()' statement.\\n\""
      ]
     },
     "execution_count": 37,
     "metadata": {},
     "output_type": "execute_result"
    }
   ],
   "source": [
    "'''\n",
    "Q5. Explain why with statement is used with open(). What is the advantage of using with statement and\n",
    "open() together?\n",
    "'''\n",
    "'''ANSWER'''\n",
    "'''\n",
    "open() statement opens file and returns file object. But, it is necessary to ensure\n",
    "that after completing the file project, file need to be closed using 'close()' statement\n",
    "\n",
    "'with' statement takes care for this. 'with open()' statement opens and closes file\n",
    "after execution of code.\n",
    "\n",
    "We don't need to call 'close()' statement every time for any new code execution.\n",
    "That is the advantage of 'with open()' statement.\n",
    "'''"
   ]
  },
  {
   "cell_type": "code",
   "execution_count": 41,
   "id": "e5a71ee8-7488-4255-b17d-308f3f75b14c",
   "metadata": {},
   "outputs": [],
   "source": [
    "'''\n",
    "Q6. Explain the write() and writelines() functions. Give a suitable example.\n",
    "'''\n",
    "'''ANSWER'''\n",
    "'''\n",
    "write() writes a string into the file line by line, with overwrtting the existing data in the file.\n",
    "writelines() can write list of strings into the file.\n",
    "'''\n",
    "\n",
    "with open(\"testwrite.txt\", 'w') as f :\n",
    "    f.write(\"I want to become a Data Scientist\\nwith good practice in 2023\")\n",
    "\n",
    "list = [\"I want to become a Data Scientist\\n\",\"with good practice in 2023\"]\n",
    "with open(\"testwritelines.txt\", 'w') as f :\n",
    "    f.writelines(list)"
   ]
  },
  {
   "cell_type": "code",
   "execution_count": null,
   "id": "e33dc3de-9fb5-4c50-af21-cd84011b4707",
   "metadata": {},
   "outputs": [],
   "source": []
  }
 ],
 "metadata": {
  "kernelspec": {
   "display_name": "Python 3 (ipykernel)",
   "language": "python",
   "name": "python3"
  },
  "language_info": {
   "codemirror_mode": {
    "name": "ipython",
    "version": 3
   },
   "file_extension": ".py",
   "mimetype": "text/x-python",
   "name": "python",
   "nbconvert_exporter": "python",
   "pygments_lexer": "ipython3",
   "version": "3.10.6"
  }
 },
 "nbformat": 4,
 "nbformat_minor": 5
}
