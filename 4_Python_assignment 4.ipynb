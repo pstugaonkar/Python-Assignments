{
 "cells": [
  {
   "cell_type": "code",
   "execution_count": 1,
   "id": "cebc4c41-5a23-4a45-9291-9c5e6cac8811",
   "metadata": {},
   "outputs": [
    {
     "data": {
      "text/plain": [
       "\"\\nClass is object constructor or it provides blueprint to build objects.\\nWhereas, 'object' is instance of the class.\\nfor example, 'Car' is the class with some features.\\nThese structural features will be same for all cars, but according to brand or model some features may be different.\\nSo, these brands and their distinguishing features are objects.\\n\""
      ]
     },
     "execution_count": 1,
     "metadata": {},
     "output_type": "execute_result"
    }
   ],
   "source": [
    "'''\n",
    "Explain Class and Object with respect to Object-Oriented Programming. Give a suitable example.\n",
    "'''\n",
    "\n",
    "'''ANSWER'''\n",
    "'''\n",
    "Class is object constructor or it provides blueprint to build objects.\n",
    "Whereas, 'object' is instance of the class.\n",
    "for example, 'Car' is the class with some features.\n",
    "These structural features will be same for all cars, but according to brand or model some features may be different.\n",
    "So, these brands and their distinguishing features are objects.\n",
    "'''"
   ]
  },
  {
   "cell_type": "code",
   "execution_count": 2,
   "id": "45afd01a-b193-4d53-a803-f55e4302a000",
   "metadata": {},
   "outputs": [
    {
     "data": {
      "text/plain": [
       "'\\n1. Inheritance\\n2. Encapsulation\\n3. Polymorphism\\n4. Abstraction\\n'"
      ]
     },
     "execution_count": 2,
     "metadata": {},
     "output_type": "execute_result"
    }
   ],
   "source": [
    "''' \n",
    "Q2. Name the four pillars of OOPs.\n",
    "'''\n",
    "'''ANSWER'''\n",
    "'''\n",
    "1. Inheritance\n",
    "2. Encapsulation\n",
    "3. Polymorphism\n",
    "4. Abstraction\n",
    "'''"
   ]
  },
  {
   "cell_type": "code",
   "execution_count": 4,
   "id": "426bcc3c-cd5d-4baa-ad4a-9766a90037cb",
   "metadata": {},
   "outputs": [
    {
     "data": {
      "text/plain": [
       "(430, '20th Feb 2023')"
      ]
     },
     "execution_count": 4,
     "metadata": {},
     "output_type": "execute_result"
    }
   ],
   "source": [
    "'''\n",
    "Q3. Explain why the __init__() function is used. Give a suitable example.\n",
    "'''\n",
    "'''ANSWER'''\n",
    "'''\n",
    "__init__() function is used to initialize object creation.\n",
    "'''\n",
    "'''\n",
    "For Example, we will create class 'Stock_data'\n",
    "'''\n",
    "class stock_data:\n",
    "    \n",
    "    def __init__(self, price, date) :\n",
    "        self.price = price\n",
    "        self.date = date\n",
    "        \n",
    "    def get_stock_data(self):\n",
    "        return self.price, self.date\n",
    "    \n",
    "tatamotors = stock_data(430, '20th Feb 2023')\n",
    "tatamotors.price, tatamotors.date\n",
    "'''\n",
    "Here, 'stock_data' is class and '__init__' is used to create an object price and date so that these can be used in further functions like get_stock_data\n",
    "without creating this objects 'price and date' in each function."
   ]
  },
  {
   "cell_type": "code",
   "execution_count": 5,
   "id": "242156c2-baa8-4c01-b035-0725b87e6554",
   "metadata": {},
   "outputs": [
    {
     "data": {
      "text/plain": [
       "\"\\nSelf is used to bind objects in the class with its arguments/functions.\\nWe can use any word instead of 'Self', but it need to be uniform in the class.\\n\""
      ]
     },
     "execution_count": 5,
     "metadata": {},
     "output_type": "execute_result"
    }
   ],
   "source": [
    "'''\n",
    "Q4. Why self is used in OOPs?\n",
    "'''\n",
    "'''ANSWER'''\n",
    "\n",
    "'''\n",
    "Self is used to bind objects in the class with its arguments/functions.\n",
    "We can use any word instead of 'Self', but it need to be uniform in the class.\n",
    "'''"
   ]
  },
  {
   "cell_type": "code",
   "execution_count": null,
   "id": "b1698428-940c-4152-a5a6-0b57560cd795",
   "metadata": {},
   "outputs": [],
   "source": [
    "'''\n",
    "Q5. What is inheritance? Give an example for each type of inheritance.\n",
    "'''\n",
    "'''ANSWER'''\n",
    "'''\n",
    "When objects from one class are used or called in another class is called inheritance.\n",
    "Types of inheritance :\n",
    "1) Single inheritance\n",
    "2) Multiple inheritance\n",
    "3) Multilevel inheritance"
   ]
  }
 ],
 "metadata": {
  "kernelspec": {
   "display_name": "Python 3 (ipykernel)",
   "language": "python",
   "name": "python3"
  },
  "language_info": {
   "codemirror_mode": {
    "name": "ipython",
    "version": 3
   },
   "file_extension": ".py",
   "mimetype": "text/x-python",
   "name": "python",
   "nbconvert_exporter": "python",
   "pygments_lexer": "ipython3",
   "version": "3.10.6"
  }
 },
 "nbformat": 4,
 "nbformat_minor": 5
}
