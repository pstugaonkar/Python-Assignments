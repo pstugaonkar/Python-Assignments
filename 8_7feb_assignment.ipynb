{
 "cells": [
  {
   "cell_type": "code",
   "execution_count": 10,
   "id": "4ed1a4a5-eefb-4cd8-b5c7-4b2957c07e4f",
   "metadata": {},
   "outputs": [],
   "source": [
    "'''\n",
    "Q1. You are writing a code for a company. The requirement of company is that you create a python function that will check whether the \n",
    "password entered by the user is correct or not. The function should take the password as input\n",
    "and return the string \"Valid Password\" if the entered password follows the below\n",
    "given password guidelines else it should return \"Invalid Password\".\n",
    "\n",
    "Note:\n",
    "1. The password should contain at least two uppercase letters and at least two\n",
    "lowercase letters.\n",
    "2. The password should contain at least a number and three special characters.\n",
    "3. The length of the password should be 10 characters long.\n",
    "'''\n",
    "def Enter_password():\n",
    "    password = input(\"Enter:\")\n",
    "    special = \"!@#$%^&*()+<>?{}:\"\n",
    "    number = \"0123456789\"\n",
    "    alphabet_lower = 'abcdefghijklmnopqrstuvwxyz'\n",
    "    alphabet_upper = 'ABCDEFGHIJKLMNOPQRSTUVWXYZ'\n",
    "\n",
    "    if len(password) >10:\n",
    "        print('Invalid password, password should not exceed 10 characters')\n",
    "    elif not sum(char in special for char in password)>2:\n",
    "        print(\"Invalid password, must contain three special character\")\n",
    "    elif not sum(char in alphabet_lower for char in password)>1:\n",
    "        print(\"Invalid password, must contain two lowercase letters\")\n",
    "    elif not sum(char in alphabet_upper for char in password)>1:\n",
    "        print(\"Invalid password, must contain two uppercase letters\")\n",
    "    elif not any(char in number for char in password):\n",
    "        print(\"Invalid password, must contain atleast one number\")\n",
    "    else:\n",
    "        print(\"Valid password\")"
   ]
  },
  {
   "cell_type": "code",
   "execution_count": 2,
   "id": "f4751a03-a7e2-4f28-9d5c-d231f4363825",
   "metadata": {},
   "outputs": [
    {
     "name": "stdin",
     "output_type": "stream",
     "text": [
      "Enter: ahUO@#$$0\n"
     ]
    },
    {
     "name": "stdout",
     "output_type": "stream",
     "text": [
      "Valid password\n"
     ]
    }
   ],
   "source": [
    "Enter_password()"
   ]
  },
  {
   "cell_type": "code",
   "execution_count": 3,
   "id": "b1167fe5-e768-43e5-8580-def5c55750c4",
   "metadata": {},
   "outputs": [
    {
     "name": "stdin",
     "output_type": "stream",
     "text": [
      "Enter: OPIO#$%^7\n"
     ]
    },
    {
     "name": "stdout",
     "output_type": "stream",
     "text": [
      "Invalid password, must contain two lowercase letters\n"
     ]
    }
   ],
   "source": [
    "Enter_password()"
   ]
  },
  {
   "cell_type": "code",
   "execution_count": 4,
   "id": "10ca0b40-1c82-4769-bd9e-cad2a6c28893",
   "metadata": {},
   "outputs": [
    {
     "name": "stdin",
     "output_type": "stream",
     "text": [
      "Enter: low4%^#\n"
     ]
    },
    {
     "name": "stdout",
     "output_type": "stream",
     "text": [
      "Invalid password, must contain two uppercase letters\n"
     ]
    }
   ],
   "source": [
    "Enter_password()"
   ]
  },
  {
   "cell_type": "code",
   "execution_count": 5,
   "id": "320f226e-906d-4a8e-abee-d2072c0bce75",
   "metadata": {},
   "outputs": [
    {
     "name": "stdin",
     "output_type": "stream",
     "text": [
      "Enter: pqeWW$45\n"
     ]
    },
    {
     "name": "stdout",
     "output_type": "stream",
     "text": [
      "Invalid password, must contain three special character\n"
     ]
    }
   ],
   "source": [
    "Enter_password()"
   ]
  },
  {
   "cell_type": "code",
   "execution_count": 6,
   "id": "02802c06-ad03-42fd-9a97-d06f0779636e",
   "metadata": {},
   "outputs": [
    {
     "name": "stdin",
     "output_type": "stream",
     "text": [
      "Enter: PPll#$%$#%\n"
     ]
    },
    {
     "name": "stdout",
     "output_type": "stream",
     "text": [
      "Invalid password, must contain atleast one number\n"
     ]
    }
   ],
   "source": [
    "Enter_password()"
   ]
  },
  {
   "cell_type": "code",
   "execution_count": 7,
   "id": "145448ee-540f-4ffa-bd3f-7cc495612481",
   "metadata": {},
   "outputs": [
    {
     "name": "stdin",
     "output_type": "stream",
     "text": [
      "Enter: PPl2@#$456lli8\n"
     ]
    },
    {
     "name": "stdout",
     "output_type": "stream",
     "text": [
      "Invalid password, password should not exceed 10 characters\n"
     ]
    }
   ],
   "source": [
    "Enter_password()"
   ]
  },
  {
   "cell_type": "code",
   "execution_count": 8,
   "id": "c5e0cd11-549b-49fe-b859-769e26117620",
   "metadata": {},
   "outputs": [
    {
     "name": "stdin",
     "output_type": "stream",
     "text": [
      "Enter: KKpp@#&09\n"
     ]
    },
    {
     "name": "stdout",
     "output_type": "stream",
     "text": [
      "Valid password\n"
     ]
    }
   ],
   "source": [
    "Enter_password()"
   ]
  },
  {
   "cell_type": "code",
   "execution_count": 9,
   "id": "a96f453f-28df-412b-b396-d877504207f6",
   "metadata": {},
   "outputs": [
    {
     "data": {
      "text/plain": [
       "'\\nQ2. Solve the below-given questions using at least one of the following:\\n1. Lambda function\\n2. Filter function\\n3. Map fuction\\n4. List of Comprehension\\n\\n* Check if string starts with a particular letter.\\n* Check if string is numeric.\\n* Sort a list of tuples having fruit names and their quantity.\\n[(\"mango\", 99), (\"orange\", 80), (\"grapes\", 1000)]\\n*Find the squares of numbers from 1 to 10.\\n* Find the cube of numbers from 1 to 10.\\n* Check if a given number is even.\\n* Filter odd numbers from the given list.\\n[1,2,3,4,5,6,7,8,9,10]\\n* Sort the list of integers into positive and negative integers lists.\\n[1,2,3,4,5,6,-1,-2,-3,-4,-5,0]\\n'"
      ]
     },
     "execution_count": 9,
     "metadata": {},
     "output_type": "execute_result"
    }
   ],
   "source": [
    "'''\n",
    "Q2. Solve the below-given questions using at least one of the following:\n",
    "1. Lambda function\n",
    "2. Filter function\n",
    "3. Map fuction\n",
    "4. List of Comprehension\n",
    "\n",
    "* Check if string starts with a particular letter.\n",
    "* Check if string is numeric.\n",
    "* Sort a list of tuples having fruit names and their quantity.\n",
    "[(\"mango\", 99), (\"orange\", 80), (\"grapes\", 1000)]\n",
    "*Find the squares of numbers from 1 to 10.\n",
    "* Find the cube of numbers from 1 to 10.\n",
    "* Check if a given number is even.\n",
    "* Filter odd numbers from the given list.\n",
    "[1,2,3,4,5,6,7,8,9,10]\n",
    "* Sort the list of integers into positive and negative integers lists.\n",
    "[1,2,3,4,5,6,-1,-2,-3,-4,-5,0]\n",
    "'''"
   ]
  },
  {
   "cell_type": "code",
   "execution_count": 11,
   "id": "72d77853-f8b2-4c6f-a2c6-3630bdfee988",
   "metadata": {},
   "outputs": [
    {
     "name": "stdout",
     "output_type": "stream",
     "text": [
      "1\n",
      "4\n",
      "9\n",
      "16\n",
      "25\n",
      "36\n",
      "49\n",
      "64\n",
      "81\n",
      "100\n"
     ]
    }
   ],
   "source": [
    "'''\n",
    "Find the squares of numbers from 1 to 10.\n",
    "'''\n",
    "'''ANSWER'''\n",
    "\n",
    "a = lambda x: x**2\n",
    "for i in range(1, 11):\n",
    "    print(a(i))"
   ]
  },
  {
   "cell_type": "code",
   "execution_count": 12,
   "id": "1e78d3cc-966e-46cb-b41f-ff314d51fd86",
   "metadata": {},
   "outputs": [
    {
     "name": "stdout",
     "output_type": "stream",
     "text": [
      "1\n",
      "8\n",
      "27\n",
      "64\n",
      "125\n",
      "216\n",
      "343\n",
      "512\n",
      "729\n",
      "1000\n"
     ]
    }
   ],
   "source": [
    "'''\n",
    "Find the cube of numbers from 1 to 10.\n",
    "'''\n",
    "'''ANSWER'''\n",
    "\n",
    "a = lambda x: x**3\n",
    "for i in range(1, 11):\n",
    "    print(a(i))"
   ]
  },
  {
   "cell_type": "code",
   "execution_count": 13,
   "id": "2b94caa2-dafa-4cd1-af26-3151dd8b809b",
   "metadata": {},
   "outputs": [
    {
     "name": "stdout",
     "output_type": "stream",
     "text": [
      "False\n",
      "True\n"
     ]
    }
   ],
   "source": [
    "'''\n",
    "Check if string starts with a particular letter.\n",
    "'''\n",
    "first_letter = lambda s: True if s[0] == 'P' else False\n",
    "s = 'pwskills'\n",
    "s1 = 'Pwskills'\n",
    "print(first_letter(s))\n",
    "print(first_letter(s1))"
   ]
  },
  {
   "cell_type": "code",
   "execution_count": 15,
   "id": "be7a3042-0e84-43db-9f80-06338404d9c7",
   "metadata": {},
   "outputs": [
    {
     "name": "stdout",
     "output_type": "stream",
     "text": [
      "True\n",
      "True\n",
      "True\n",
      "False\n"
     ]
    }
   ],
   "source": [
    "'''\n",
    "Check if string is numeric.\n",
    "'''\n",
    "\n",
    "check_numeric = lambda s: s.replace('.','').replace('-','').isdigit()\n",
    "\n",
    "print(check_numeric('4'))\n",
    "print(check_numeric('4.1'))\n",
    "print(check_numeric('-4'))\n",
    "print(check_numeric('gh'))"
   ]
  },
  {
   "cell_type": "code",
   "execution_count": null,
   "id": "d394223d-5ef9-4d03-9d90-53a016ec3257",
   "metadata": {},
   "outputs": [],
   "source": [
    "'''\n",
    "Check if string is numeric.\n",
    "'''\n",
    "#Using comprehension\n",
    "s = input()\n",
    "[s.replace('.','').replace('-','').isdigit()]"
   ]
  },
  {
   "cell_type": "code",
   "execution_count": 16,
   "id": "d999b392-294a-4f88-b504-152ea5db4d7b",
   "metadata": {},
   "outputs": [
    {
     "name": "stdout",
     "output_type": "stream",
     "text": [
      "[('orange', 80), ('mango', 99), ('grapes', 1000)]\n"
     ]
    }
   ],
   "source": [
    "'''\n",
    "Sort a list of tuples having fruit names and their quantity.\n",
    "[(\"mango\", 99), (\"orange\", 80), (\"grapes\", 1000)]\n",
    "'''\n",
    "l1 = [(\"mango\", 99), (\"orange\", 80), (\"grapes\", 1000)]\n",
    "l1.sort(key = lambda l1: l1[1])\n",
    "print(l1)"
   ]
  },
  {
   "cell_type": "code",
   "execution_count": 17,
   "id": "e9912b5b-62a2-470a-82d4-75463179a4ab",
   "metadata": {},
   "outputs": [
    {
     "name": "stdout",
     "output_type": "stream",
     "text": [
      "False\n",
      "True\n"
     ]
    }
   ],
   "source": [
    "'''\n",
    "Check if a given number is even.\n",
    "'''\n",
    "is_even = lambda number: True if number%2 == 0 else False\n",
    "\n",
    "print(is_even(9))\n",
    "print(is_even(80))"
   ]
  },
  {
   "cell_type": "code",
   "execution_count": 18,
   "id": "36af8013-7b4f-4369-8d78-3899a3806231",
   "metadata": {},
   "outputs": [
    {
     "name": "stdout",
     "output_type": "stream",
     "text": [
      "[1, 3, 5, 7, 9]\n"
     ]
    }
   ],
   "source": [
    "'''\n",
    "Filter odd numbers from the given list.\n",
    "[1,2,3,4,5,6,7,8,9,10]\n",
    "'''\n",
    "l = [1,2,3,4,5,6,7,8,9,10]\n",
    "filter_odd = list(filter(lambda l: l%2 !=0, l))\n",
    "print(filter_odd)"
   ]
  },
  {
   "cell_type": "code",
   "execution_count": 19,
   "id": "2e6b6dbe-b7c1-4f3a-b82c-5caac48d48ec",
   "metadata": {},
   "outputs": [
    {
     "name": "stdout",
     "output_type": "stream",
     "text": [
      "Positive numbers are: [0, 1, 2, 3, 4, 5, 6]\n",
      "Negative numbers are: [-5, -4, -3, -2, -1]\n"
     ]
    }
   ],
   "source": [
    "'''\n",
    "Sort the list of integers into positive and negative integers lists.\n",
    "[1,2,3,4,5,6,-1,-2,-3,-4,-5,0]\n",
    "'''\n",
    "l = [1,2,3,4,5,6,-1,-2,-3,-4,-5,0]\n",
    "filter_positive = list(filter(lambda l: l>=0, l))\n",
    "filter_negative = list(filter(lambda l: l<0, l))\n",
    "print(\"Positive numbers are:\",sorted(filter_positive))\n",
    "print(\"Negative numbers are:\",sorted(filter_negative))"
   ]
  },
  {
   "cell_type": "code",
   "execution_count": null,
   "id": "c813d2eb-5d4e-45e1-bb34-458f29a69805",
   "metadata": {},
   "outputs": [],
   "source": []
  }
 ],
 "metadata": {
  "kernelspec": {
   "display_name": "Python 3 (ipykernel)",
   "language": "python",
   "name": "python3"
  },
  "language_info": {
   "codemirror_mode": {
    "name": "ipython",
    "version": 3
   },
   "file_extension": ".py",
   "mimetype": "text/x-python",
   "name": "python",
   "nbconvert_exporter": "python",
   "pygments_lexer": "ipython3",
   "version": "3.10.6"
  }
 },
 "nbformat": 4,
 "nbformat_minor": 5
}
