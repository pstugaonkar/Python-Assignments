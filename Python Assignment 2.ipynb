{
 "cells": [
  {
   "cell_type": "code",
   "execution_count": 46,
   "id": "3bbc12b3-7408-486f-aa8f-19f06555ce27",
   "metadata": {},
   "outputs": [
    {
     "name": "stdout",
     "output_type": "stream",
     "text": [
      "1\n",
      "3\n",
      "5\n",
      "7\n",
      "9\n",
      "11\n",
      "13\n",
      "15\n",
      "17\n",
      "19\n",
      "21\n",
      "23\n"
     ]
    }
   ],
   "source": [
    "'''\n",
    "Q.1 Which keyword is used to create a function? Create a function to return a list of odd numbers in the\n",
    "range of 1 to 25.\n",
    "'''\n",
    "'''\n",
    "ANSWER::\n",
    "'def' keyword is used to create function.\n",
    "'''\n",
    "def odd25():\n",
    "    for i in range(1,25,2):\n",
    "        print(i)\n",
    "odd25()"
   ]
  },
  {
   "cell_type": "code",
   "execution_count": 34,
   "id": "aa6fd85f-bd0b-42f8-acca-984939faa0e7",
   "metadata": {},
   "outputs": [
    {
     "name": "stdout",
     "output_type": "stream",
     "text": [
      "Function for '*args': \n",
      "\n",
      "50\n",
      "114 \n",
      "\n",
      "Function for '**kwargs': \n",
      "\n",
      "225000\n",
      "5800\n"
     ]
    }
   ],
   "source": [
    "'''\n",
    "Q.2 Why *args and **kwargs is used in some functions? Create a function each for *args and **kwargs \n",
    "to demonstrate their use.\n",
    "'''\n",
    "\n",
    "'''\n",
    "Answer: '*args' is used to create function with as many arguments or parameters as user wanted, without any keyword. if not specified these functions have type tuple.\n",
    "'**kwargs' also takes as many arguments as user want, but with keyword. It creates a dictionary with keyword and value pair and returns output. If not specified\n",
    "these functions have type dictionary.\n",
    "'''\n",
    "'''Function for '*args'::'''\n",
    "print(\"Function for '*args':\",'\\n')\n",
    "\n",
    "def add(*args) :\n",
    "    total = 0\n",
    "    for arg in args :\n",
    "        total = total +arg\n",
    "    return total\n",
    "x = add(45, 5)\n",
    "print(x)\n",
    "print(add(4,5,98,3,4),'\\n')\n",
    "\n",
    "print(\"Function for '**kwargs':\",'\\n')\n",
    "\n",
    "def total_spend(**kwargs) :\n",
    "    expense = 0\n",
    "    for args in kwargs.values() :\n",
    "        expense = expense + args\n",
    "    return expense\n",
    "\n",
    "#y = {'HR': 35000, 'Marketing': 50000, 'IT': 100000, 'Finance': 40000}\n",
    "print(total_spend(HR= 35000, Marketing= 50000, IT= 100000, Finance= 40000))\n",
    "print(total_spend(Grocery = 1500, Travelling = 800, Entertainment = 500, shopping = 2000, misc= 1000))"
   ]
  },
  {
   "cell_type": "code",
   "execution_count": 5,
   "id": "b6f97011-ade5-478d-a82b-7bed69676bac",
   "metadata": {},
   "outputs": [],
   "source": [
    "'''\n",
    "Q. 3 What is an iterator in python? Name the method used to initialise the iterator object and the method \n",
    "used for iteration. Use these methods to print the first five elements of the given list [2, 4, 6, 8, 10, 12, 14, \n",
    "16, 18, 20].\n",
    "'''\n",
    "\n",
    "'''\n",
    "Answer: Iterator is object with countable number of values. Iterator can be operated on iterables, hence iterator can traverse through the values\n",
    "and returns output. Iterables can be string, list, tuples, dict and sets. 'iter()' method is used to initialize the iterator object and 'next()' method\n",
    "is used for iteration.\n",
    "'''\n",
    "\n",
    "l = [2, 4, 6, 8, 10, 12, 14, 16, 18, 20]\n",
    "l1 = iter(l)"
   ]
  },
  {
   "cell_type": "code",
   "execution_count": 6,
   "id": "109222fd-3ccd-4035-b7ba-3b3c5e7a7f36",
   "metadata": {},
   "outputs": [
    {
     "data": {
      "text/plain": [
       "2"
      ]
     },
     "execution_count": 6,
     "metadata": {},
     "output_type": "execute_result"
    }
   ],
   "source": [
    "next(l1)"
   ]
  },
  {
   "cell_type": "code",
   "execution_count": 7,
   "id": "a16d631b-8067-40aa-9f78-6799e50fa559",
   "metadata": {},
   "outputs": [
    {
     "data": {
      "text/plain": [
       "4"
      ]
     },
     "execution_count": 7,
     "metadata": {},
     "output_type": "execute_result"
    }
   ],
   "source": [
    "next(l1)"
   ]
  },
  {
   "cell_type": "code",
   "execution_count": 9,
   "id": "6ee55daa-0c82-4210-80c6-ff14751b9a28",
   "metadata": {},
   "outputs": [
    {
     "data": {
      "text/plain": [
       "6"
      ]
     },
     "execution_count": 9,
     "metadata": {},
     "output_type": "execute_result"
    }
   ],
   "source": [
    "next(l1)"
   ]
  },
  {
   "cell_type": "code",
   "execution_count": 10,
   "id": "9b64fdc0-456f-4826-b286-45851ce250da",
   "metadata": {},
   "outputs": [
    {
     "data": {
      "text/plain": [
       "8"
      ]
     },
     "execution_count": 10,
     "metadata": {},
     "output_type": "execute_result"
    }
   ],
   "source": [
    "next(l1)"
   ]
  },
  {
   "cell_type": "code",
   "execution_count": 11,
   "id": "abec4557-b313-4232-89c9-e356466f235b",
   "metadata": {},
   "outputs": [
    {
     "data": {
      "text/plain": [
       "10"
      ]
     },
     "execution_count": 11,
     "metadata": {},
     "output_type": "execute_result"
    }
   ],
   "source": [
    "next(l1)"
   ]
  },
  {
   "cell_type": "code",
   "execution_count": 19,
   "id": "5a8f96a0-e969-45bd-9520-0749350defad",
   "metadata": {},
   "outputs": [
    {
     "name": "stdout",
     "output_type": "stream",
     "text": [
      "Example of generator function: \n",
      "\n",
      "<class 'generator'>\n",
      "0\n",
      "1\n",
      "8\n",
      "27\n",
      "64\n",
      "\n",
      "\n",
      "<class 'generator'>\n",
      "0\n",
      "1\n",
      "8\n",
      "27\n",
      "64\n",
      "125\n",
      "216\n",
      "343\n",
      "512\n",
      "729\n"
     ]
    }
   ],
   "source": [
    "'''\n",
    "Q. 4  What is a generator function in python? Why yield keyword is used? Give an example of a generator \n",
    "function.\n",
    "'''\n",
    "'''\n",
    "Answer: Generator function gives values of the result of function one by one. It produces sequence of iterators and gives output.\n",
    "Yield keyword is similar to return but instead giving whole output at the end, 'yield' provide output as soon as iterator is generated.\n",
    "'''\n",
    "print('Example of generator function:','\\n')\n",
    "\n",
    "def _cube_(n):\n",
    "    for i in range(n):\n",
    "        yield i**3\n",
    "        \n",
    "c = _cube_(5)\n",
    "print(type(c))\n",
    "for i in c :\n",
    "    print(i)\n",
    "    \n",
    "print('\\n')\n",
    "c = _cube_(10)\n",
    "print(type(c))\n",
    "for i in c :\n",
    "    print(i)"
   ]
  },
  {
   "cell_type": "code",
   "execution_count": 54,
   "id": "48f22274-181a-460c-a38b-9ed31a80ab19",
   "metadata": {},
   "outputs": [
    {
     "name": "stdout",
     "output_type": "stream",
     "text": [
      "Type of function is <class 'generator'>\n",
      "Prime numbers less than 1000: \n",
      "\n",
      "2\n",
      "3\n",
      "5\n",
      "7\n",
      "11\n",
      "13\n",
      "17\n",
      "19\n",
      "23\n",
      "29\n",
      "31\n",
      "37\n",
      "41\n",
      "43\n",
      "47\n",
      "53\n",
      "59\n",
      "61\n",
      "67\n",
      "71\n",
      "73\n",
      "79\n",
      "83\n",
      "89\n",
      "97\n",
      "101\n",
      "103\n",
      "107\n",
      "109\n",
      "113\n",
      "127\n",
      "131\n",
      "137\n",
      "139\n",
      "149\n",
      "151\n",
      "157\n",
      "163\n",
      "167\n",
      "173\n",
      "179\n",
      "181\n",
      "191\n",
      "193\n",
      "197\n",
      "199\n",
      "211\n",
      "223\n",
      "227\n",
      "229\n",
      "233\n",
      "239\n",
      "241\n",
      "251\n",
      "257\n",
      "263\n",
      "269\n",
      "271\n",
      "277\n",
      "281\n",
      "283\n",
      "293\n",
      "307\n",
      "311\n",
      "313\n",
      "317\n",
      "331\n",
      "337\n",
      "347\n",
      "349\n",
      "353\n",
      "359\n",
      "367\n",
      "373\n",
      "379\n",
      "383\n",
      "389\n",
      "397\n",
      "401\n",
      "409\n",
      "419\n",
      "421\n",
      "431\n",
      "433\n",
      "439\n",
      "443\n",
      "449\n",
      "457\n",
      "461\n",
      "463\n",
      "467\n",
      "479\n",
      "487\n",
      "491\n",
      "499\n",
      "503\n",
      "509\n",
      "521\n",
      "523\n",
      "541\n",
      "547\n",
      "557\n",
      "563\n",
      "569\n",
      "571\n",
      "577\n",
      "587\n",
      "593\n",
      "599\n",
      "601\n",
      "607\n",
      "613\n",
      "617\n",
      "619\n",
      "631\n",
      "641\n",
      "643\n",
      "647\n",
      "653\n",
      "659\n",
      "661\n",
      "673\n",
      "677\n",
      "683\n",
      "691\n",
      "701\n",
      "709\n",
      "719\n",
      "727\n",
      "733\n",
      "739\n",
      "743\n",
      "751\n",
      "757\n",
      "761\n",
      "769\n",
      "773\n",
      "787\n",
      "797\n",
      "809\n",
      "811\n",
      "821\n",
      "823\n",
      "827\n",
      "829\n",
      "839\n",
      "853\n",
      "857\n",
      "859\n",
      "863\n",
      "877\n",
      "881\n",
      "883\n",
      "887\n",
      "907\n",
      "911\n",
      "919\n",
      "929\n",
      "937\n",
      "941\n",
      "947\n",
      "953\n",
      "967\n",
      "971\n",
      "977\n",
      "983\n",
      "991\n",
      "997\n",
      "Iterator type is <class 'list_iterator'> \n",
      "\n",
      "First 20 prime numbers: \n",
      "\n",
      "2\n",
      "3\n",
      "5\n",
      "7\n",
      "11\n",
      "13\n",
      "17\n",
      "19\n",
      "23\n",
      "29\n",
      "31\n",
      "37\n",
      "41\n",
      "43\n",
      "47\n",
      "53\n",
      "59\n",
      "61\n",
      "67\n",
      "71\n"
     ]
    }
   ],
   "source": [
    "'''\n",
    "Q. 5 Create a generator function for prime numbers less than 1000. Use the next() method to print the \n",
    "first 20 prime numbers.\n",
    "'''\n",
    "'''\n",
    "Answer: \n",
    "'''\n",
    "def _prime_():\n",
    "    for i in range(2, 1000 ):\n",
    "        for x in range(2, i):\n",
    "            if (i%x==0):\n",
    "                break\n",
    "        else:\n",
    "            yield i\n",
    "c = _prime_()\n",
    "print(\"Type of function is\",type(c))\n",
    "c1 = []\n",
    "print(\"Prime numbers less than 1000:\",'\\n')\n",
    "for i in c :\n",
    "    print(i)\n",
    "    c1.append(i)\n",
    "c1 = iter(c1)\n",
    "print(\"Iterator type is\",type(c1),'\\n')\n",
    "print(\"First 20 prime numbers:\",'\\n')\n",
    "for i in range(20):\n",
    "    print(next(c1))"
   ]
  },
  {
   "cell_type": "code",
   "execution_count": 49,
   "id": "596f48b3-c41e-45d7-8d3e-f9fd8773a8bb",
   "metadata": {},
   "outputs": [
    {
     "name": "stdout",
     "output_type": "stream",
     "text": [
      "How many fibonacci numbers you want? 10\n",
      "<class 'generator'>\n",
      "0\n",
      "1\n",
      "1\n",
      "2\n",
      "3\n",
      "5\n",
      "8\n",
      "13\n",
      "21\n",
      "34\n"
     ]
    }
   ],
   "source": [
    "'''\n",
    "Q 6 Write a python program to print the first 10 Fibonacci numbers using a while loop.\n",
    "'''\n",
    "'''ANSWER:'''\n",
    "n = int(input(\"How many fibonacci numbers you want? \"))\n",
    "def _fib_(n):\n",
    "    a = 0\n",
    "    b = 1\n",
    "    while True:\n",
    "        yield a\n",
    "        a,b = b, a+b\n",
    "        \n",
    "fib = _fib_(n)\n",
    "print(type(fib))\n",
    "i = 0\n",
    "while i < n:\n",
    "    print(next(fib))\n",
    "    i += 1"
   ]
  },
  {
   "cell_type": "code",
   "execution_count": 76,
   "id": "b50c6476-1638-4383-b56c-eed53924955b",
   "metadata": {},
   "outputs": [
    {
     "data": {
      "text/plain": [
       "['p', 'w', 's', 'k', 'i', 'l', 'l', 's']"
      ]
     },
     "execution_count": 76,
     "metadata": {},
     "output_type": "execute_result"
    }
   ],
   "source": [
    "'''\n",
    "Q 7 Write a List Comprehension to iterate through the given string: ‘pwskills’.\n",
    "\n",
    "Expected output: ['p', 'w', 's', 'k', 'i', 'l', 'l', 's']\n",
    "'''\n",
    "l = 'pwskills'\n",
    "[i for i in l]"
   ]
  },
  {
   "cell_type": "code",
   "execution_count": 37,
   "id": "d1df1738-93bd-4bac-9383-d053d074744a",
   "metadata": {},
   "outputs": [
    {
     "name": "stdout",
     "output_type": "stream",
     "text": [
      "Enter a number:1221\n",
      "The number is palindrome!\n"
     ]
    }
   ],
   "source": [
    "'''\n",
    "Q 8 Write a python program to check whether a given number is Palindrome or not using a while loop.\n",
    "'''\n",
    "''' ANSWER'''\n",
    "\n",
    "num=int(input(\"Enter a number:\"))\n",
    "temp=num\n",
    "rev=0\n",
    "while(num > 0):\n",
    "    dig=num%10\n",
    "    rev=rev*10+dig\n",
    "    num=num//10\n",
    "if(temp==rev):\n",
    "    print(\"The number is palindrome!\")\n",
    "else:\n",
    "    print(\"Not a palindrome!\")"
   ]
  },
  {
   "cell_type": "code",
   "execution_count": 45,
   "id": "2bedd654-eb82-4c0a-b4e6-015e5cb90b27",
   "metadata": {},
   "outputs": [
    {
     "data": {
      "text/plain": [
       "[1,\n",
       " 3,\n",
       " 5,\n",
       " 7,\n",
       " 9,\n",
       " 11,\n",
       " 13,\n",
       " 15,\n",
       " 17,\n",
       " 19,\n",
       " 21,\n",
       " 23,\n",
       " 25,\n",
       " 27,\n",
       " 29,\n",
       " 31,\n",
       " 33,\n",
       " 35,\n",
       " 37,\n",
       " 39,\n",
       " 41,\n",
       " 43,\n",
       " 45,\n",
       " 47,\n",
       " 49,\n",
       " 51,\n",
       " 53,\n",
       " 55,\n",
       " 57,\n",
       " 59,\n",
       " 61,\n",
       " 63,\n",
       " 65,\n",
       " 67,\n",
       " 69,\n",
       " 71,\n",
       " 73,\n",
       " 75,\n",
       " 77,\n",
       " 79,\n",
       " 81,\n",
       " 83,\n",
       " 85,\n",
       " 87,\n",
       " 89,\n",
       " 91,\n",
       " 93,\n",
       " 95,\n",
       " 97,\n",
       " 99]"
      ]
     },
     "execution_count": 45,
     "metadata": {},
     "output_type": "execute_result"
    }
   ],
   "source": [
    "'''\n",
    "Q 9 Write a code to print odd numbers from 1 to 100 using list comprehension.\n",
    "\n",
    "Note: Use a list comprehension to create a list from 1 to 100 and use another List comprehension to filter \n",
    "out odd numbers.\n",
    "'''\n",
    "l = [i for i in range(1, 100)]\n",
    "[i for i in l[::2]]"
   ]
  },
  {
   "cell_type": "code",
   "execution_count": null,
   "id": "0e20784c-e485-4291-be56-52522141b5a6",
   "metadata": {},
   "outputs": [],
   "source": []
  },
  {
   "cell_type": "code",
   "execution_count": null,
   "id": "7f643411",
   "metadata": {},
   "outputs": [],
   "source": []
  },
  {
   "cell_type": "code",
   "execution_count": null,
   "id": "a40d9e6e",
   "metadata": {},
   "outputs": [],
   "source": []
  },
  {
   "cell_type": "code",
   "execution_count": null,
   "id": "b094fd5f",
   "metadata": {},
   "outputs": [],
   "source": []
  },
  {
   "cell_type": "code",
   "execution_count": null,
   "id": "93dbd6d8",
   "metadata": {},
   "outputs": [],
   "source": []
  },
  {
   "cell_type": "code",
   "execution_count": null,
   "id": "ae05cd3c",
   "metadata": {},
   "outputs": [],
   "source": []
  },
  {
   "cell_type": "code",
   "execution_count": null,
   "id": "d952aa76",
   "metadata": {},
   "outputs": [],
   "source": []
  },
  {
   "cell_type": "code",
   "execution_count": null,
   "id": "391fc52f",
   "metadata": {},
   "outputs": [],
   "source": []
  },
  {
   "cell_type": "code",
   "execution_count": null,
   "id": "5ae5fab2",
   "metadata": {},
   "outputs": [],
   "source": []
  },
  {
   "cell_type": "code",
   "execution_count": null,
   "id": "3db592bc",
   "metadata": {},
   "outputs": [],
   "source": []
  },
  {
   "cell_type": "code",
   "execution_count": null,
   "id": "e8fca6a0",
   "metadata": {},
   "outputs": [],
   "source": []
  }
 ],
 "metadata": {
  "kernelspec": {
   "display_name": "Python 3",
   "language": "python",
   "name": "python3"
  },
  "language_info": {
   "codemirror_mode": {
    "name": "ipython",
    "version": 3
   },
   "file_extension": ".py",
   "mimetype": "text/x-python",
   "name": "python",
   "nbconvert_exporter": "python",
   "pygments_lexer": "ipython3",
   "version": "3.9.13"
  }
 },
 "nbformat": 4,
 "nbformat_minor": 5
}
