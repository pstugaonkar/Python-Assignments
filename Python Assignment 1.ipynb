{
 "cells": [
  {
   "cell_type": "code",
   "execution_count": 12,
   "id": "e7fe3e6c-ca41-4053-a828-71b410fc1b8f",
   "metadata": {},
   "outputs": [
    {
     "name": "stdout",
     "output_type": "stream",
     "text": [
      "Squares with 'for' loop:\n",
      "4\n",
      "25\n",
      "3136\n",
      "7921\n",
      "\n",
      " Numbers with sum 20:\n"
     ]
    },
    {
     "name": "stdin",
     "output_type": "stream",
     "text": [
      "number? 4\n",
      "number? 9\n",
      "number? 7\n"
     ]
    },
    {
     "name": "stdout",
     "output_type": "stream",
     "text": [
      "[4, 9, 7]\n"
     ]
    }
   ],
   "source": [
    "'''\n",
    "Explain with an example each when to use a for loop and a while loop.\n",
    "'''\n",
    "'''ANSWER'''\n",
    "'''\n",
    "For loop is used when we know how many number of iterations will be done with the code.\n",
    "for example: If we want to find square of numbers in the given list then for loop can be used.\n",
    "'''\n",
    "\n",
    "print(\"Squares with 'for' loop:\")\n",
    "l = [2,5,56,89]\n",
    "for i in l:\n",
    "    print(i**2)\n",
    " \n",
    "'''\n",
    "while loop is used when we do not know the number of iteration for the given code.\n",
    "While loop continues to work until given condition is false.\n",
    "For example: Here user can input as many number as user want and whenever sum of \n",
    "these number exceeds 20 'while loop' is broken and user gets output. Here number in list is not fixed, so while\n",
    "loop works well than for loop.\n",
    "'''\n",
    "print(\"Numbers with sum 20:\")\n",
    "l = []\n",
    "while sum(l)<20:\n",
    "    i = int(input(\"number?\"))\n",
    "    l.append(i)\n",
    "print(l)"
   ]
  },
  {
   "cell_type": "code",
   "execution_count": 11,
   "id": "716f4719-2e0a-4090-8eee-772eb453d093",
   "metadata": {},
   "outputs": [
    {
     "name": "stdout",
     "output_type": "stream",
     "text": [
      "With for loop:\n",
      "Sum of first 10 natural numbers is 55\n",
      "Product of first 10 natural numbers is 3628800 \n",
      "\n",
      "With while loop:\n",
      "Sum of first 10 natural numbers is 55\n",
      "Product of first 10 natural numbers is 3628800\n"
     ]
    }
   ],
   "source": [
    "'''\n",
    "Write a python program to print the sum and product of the first 10 natural numbers using for\n",
    "and while loop.\n",
    "'''\n",
    "\n",
    "add = 0\n",
    "multi = 1\n",
    "for i in range(1,11):\n",
    "    add=add+i\n",
    "    multi=multi*i\n",
    "print('With for loop:')\n",
    "print('Sum of first 10 natural numbers is',add)\n",
    "print('Product of first 10 natural numbers is',multi,'\\n')\n",
    "\n",
    "n=range(1,11)\n",
    "while n is int:\n",
    "    add=add+n\n",
    "    multi=multi*n\n",
    "print('With while loop:')\n",
    "print('Sum of first 10 natural numbers is',add)\n",
    "print('Product of first 10 natural numbers is',multi)"
   ]
  },
  {
   "cell_type": "code",
   "execution_count": 1,
   "id": "020776cf-eff6-46fd-bb73-5c413a33c04f",
   "metadata": {},
   "outputs": [
    {
     "name": "stdin",
     "output_type": "stream",
     "text": [
      "Units of electricity consumed: 310\n"
     ]
    },
    {
     "name": "stdout",
     "output_type": "stream",
     "text": [
      "Total bill is Rs. 2250.0\n"
     ]
    }
   ],
   "source": [
    "'''\n",
    "Create a python program to compute the electricity bill for a household.\n",
    "\n",
    "The per-unit charges in rupees are as follows: For the first 100 units, the user will be charged Rs. 4.5 per\n",
    "unit, for the next 100 units, the user will be charged Rs. 6 per unit, and for the next 100 units, the user will\n",
    "be charged Rs. 10 per unit, After 300 units and above the user will be charged Rs. 20 per unit.\n",
    "You are required to take the units of electricity consumed in a month from the user as input.\n",
    "Your program must pass this test case: when the unit of electricity consumed by the user in a month is\n",
    "310, the total electricity bill should be 2250.\n",
    "'''\n",
    "\n",
    "unit = float(input('Units of electricity consumed:'))\n",
    "if unit>0:\n",
    "    if unit<=100.0 :\n",
    "        bill=unit*4.5\n",
    "        print('Total bill is Rs.',bill)\n",
    "    elif unit>100.0:\n",
    "        if unit<=200.0:\n",
    "            unit100=unit-100\n",
    "            bill=(100.0*4.5)+(unit100*6.0)\n",
    "            print('Total bill is Rs.',bill)\n",
    "        elif unit>200.0:\n",
    "            if unit<=300.0:\n",
    "                unit100=unit-100\n",
    "                unit200=unit100-100\n",
    "                bill=(100.0*4.5)+(100*6.0)+(unit200*10.0)\n",
    "                print('Total bill is Rs.',bill)\n",
    "            elif unit>300.0:\n",
    "                unit100=unit-100\n",
    "                unit200=unit100-100\n",
    "                unit300=unit200-100\n",
    "                bill=(100.0*4.5)+(100*6.0)+(100*10.0)+(unit300*20.0)\n",
    "                print('Total bill is Rs.',bill)\n",
    "else:\n",
    "    print('Invalid Input')"
   ]
  },
  {
   "cell_type": "code",
   "execution_count": 13,
   "id": "d5de4147-3873-40e1-bc41-9e088dd26cb4",
   "metadata": {},
   "outputs": [
    {
     "name": "stdout",
     "output_type": "stream",
     "text": [
      "With \"for\" loop:\n",
      "[8, 64, 125, 216, 512, 1000, 1728, 2744, 3375, 4096, 5832, 8000, 10648, 13824, 15625, 17576, 21952, 27000, 32768, 39304, 42875, 46656, 54872, 64000, 74088, 85184, 91125, 97336, 110592, 125000, 140608, 157464, 166375, 175616, 195112, 216000, 238328, 262144, 274625, 287496, 314432, 343000, 373248, 405224, 421875, 438976, 474552, 512000, 551368, 592704, 614125, 636056, 681472, 729000, 778688, 830584, 857375, 884736, 941192, 1000000]\n",
      "60 \n",
      "\n",
      "With \"while\" loop:\n",
      "[8, 64, 125, 216, 512, 1000, 1728, 2744, 3375, 4096, 5832, 8000, 10648, 13824, 15625, 17576, 21952, 27000, 32768, 39304, 42875, 46656, 54872, 64000, 74088, 85184, 91125, 97336, 110592, 125000, 140608, 157464, 166375, 175616, 195112, 216000, 238328, 262144, 274625, 287496, 314432, 343000, 373248, 405224, 421875, 438976, 474552, 512000, 551368, 592704, 614125, 636056, 681472, 729000, 778688, 830584, 857375, 884736, 941192, 1000000]\n",
      "60\n"
     ]
    }
   ],
   "source": [
    "'''\n",
    "Create a list of numbers from 1 to 100. Use for loop and while loop to calculate the cube of each\n",
    "number and if the cube of that number is divisible by 4 or 5 then append that number in a list and print\n",
    "that list.\n",
    "'''\n",
    "\n",
    "c100_d4d5 = []\n",
    "for i in range(1,101):\n",
    "    i_3 = i**3\n",
    "    if i_3%4 == 0 or i_3%5 == 0:\n",
    "        c100_d4d5.append(i_3)\n",
    "print('With \"for\" loop:')\n",
    "print(c100_d4d5)\n",
    "print(len(c100_d4d5),'\\n')\n",
    "\n",
    "   \n",
    "d4d5_100c = []\n",
    "n=0\n",
    "while n<101:\n",
    "    n=n+1\n",
    "    _3n = n**3\n",
    "    if _3n%4 == 0 or _3n%5 == 0:\n",
    "        d4d5_100c.append(_3n)\n",
    "print('With \"while\" loop:')\n",
    "print(d4d5_100c)\n",
    "print(len(d4d5_100c))\n"
   ]
  },
  {
   "cell_type": "code",
   "execution_count": 41,
   "id": "02bdd5d1-25c5-4aed-8279-ceb443c030f7",
   "metadata": {},
   "outputs": [
    {
     "name": "stdout",
     "output_type": "stream",
     "text": [
      "Total Characters: 33\n",
      "Number of vowels: 12\n"
     ]
    }
   ],
   "source": [
    "'''\n",
    "Write a program to filter count vowels in the below-given string.\n",
    "string = \"I want to become a data scientist\"\n",
    "'''\n",
    "\n",
    "string = \"I want to become a data scientist\"\n",
    "cr_string = string.lower()\n",
    "print(\"Total Characters:\",len(cr_string))\n",
    "\n",
    "count = 0\n",
    "i = 0\n",
    "for i in range(len(cr_string)):\n",
    "    if ((cr_string[i] == 'a')\n",
    "        or (cr_string[i] == 'e')\n",
    "        or (cr_string[i] == 'i')\n",
    "        or (cr_string[i] == 'u')\n",
    "        or (cr_string[i] == 'o')):\n",
    "        count = count+1\n",
    "print(\"Number of vowels:\",count)"
   ]
  },
  {
   "cell_type": "code",
   "execution_count": 4,
   "id": "8d687600-aae0-4479-8f3f-b87a4ff6e969",
   "metadata": {},
   "outputs": [
    {
     "name": "stdin",
     "output_type": "stream",
     "text": [
      "number? 4\n"
     ]
    },
    {
     "name": "stdout",
     "output_type": "stream",
     "text": [
      "4\n"
     ]
    },
    {
     "name": "stdin",
     "output_type": "stream",
     "text": [
      "number? 7\n"
     ]
    },
    {
     "name": "stdout",
     "output_type": "stream",
     "text": [
      "7\n"
     ]
    },
    {
     "name": "stdin",
     "output_type": "stream",
     "text": [
      "number? 7\n"
     ]
    },
    {
     "name": "stdout",
     "output_type": "stream",
     "text": [
      "7\n"
     ]
    },
    {
     "name": "stdin",
     "output_type": "stream",
     "text": [
      "number? 8\n"
     ]
    },
    {
     "name": "stdout",
     "output_type": "stream",
     "text": [
      "8\n"
     ]
    },
    {
     "name": "stdin",
     "output_type": "stream",
     "text": [
      "number? 98\n"
     ]
    },
    {
     "name": "stdout",
     "output_type": "stream",
     "text": [
      "98\n",
      "124\n"
     ]
    }
   ],
   "source": [
    "n = 0\n",
    "while n<100:\n",
    "    i = int(input(\"number?\"))\n",
    "    print(i)\n",
    "    n=n+i\n",
    "print(n)"
   ]
  },
  {
   "cell_type": "code",
   "execution_count": null,
   "id": "1edb4a9e-99f9-4876-9133-55ee4c437ffc",
   "metadata": {},
   "outputs": [],
   "source": []
  }
 ],
 "metadata": {
  "kernelspec": {
   "display_name": "Python 3 (ipykernel)",
   "language": "python",
   "name": "python3"
  },
  "language_info": {
   "codemirror_mode": {
    "name": "ipython",
    "version": 3
   },
   "file_extension": ".py",
   "mimetype": "text/x-python",
   "name": "python",
   "nbconvert_exporter": "python",
   "pygments_lexer": "ipython3",
   "version": "3.10.6"
  }
 },
 "nbformat": 4,
 "nbformat_minor": 5
}
