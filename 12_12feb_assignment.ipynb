{
 "cells": [
  {
   "cell_type": "code",
   "execution_count": 3,
   "id": "c5a230b8-08d1-4042-8eb6-c1ed58372fec",
   "metadata": {},
   "outputs": [
    {
     "data": {
      "text/plain": [
       "'\\nException is error that occurs during the execution of a program.\\nException error occurs when there is wrong input, or file is not found due to any reason\\nor incorrect attribute or division by zero. Such errors disturbs the flow of program\\nany code written after such error codes will not be executed. We can use try-except\\nmethod to handle such exceptions.\\n\\nSyntax error is caused when code is not written correctly for example, not completing quotes\"\" or \\'\\'\\nwhile enetring string. There is no provision of handling syntax code, we need to correct our code in such type of errors.\\n\\n'"
      ]
     },
     "execution_count": 3,
     "metadata": {},
     "output_type": "execute_result"
    }
   ],
   "source": [
    "'''\n",
    "Q1. What is an Exception in python? Write the differene between Exceptions and Syntex errors.\n",
    "'''\n",
    "'''ANSWER'''\n",
    "'''\n",
    "Exception is error that occurs during the execution of a program.\n",
    "Exception error occurs when there is wrong input, or file is not found due to any reason\n",
    "or incorrect attribute or division by zero. Such errors disturbs the flow of program\n",
    "any code written after such error codes will not be executed. We can use try-except\n",
    "method to handle such exceptions.\n",
    "\n",
    "Syntax error is caused when code is not written correctly for example, not completing quotes\"\" or ''\n",
    "while enetring string. There is no provision of handling syntax code, we need to correct our code in such type of errors.\n",
    "\n",
    "'''"
   ]
  },
  {
   "cell_type": "code",
   "execution_count": 9,
   "id": "a2a30925-2121-4cbf-91b1-ff5261200ef4",
   "metadata": {},
   "outputs": [
    {
     "name": "stdout",
     "output_type": "stream",
     "text": [
      "This is name error\n",
      "Here 'z' is not defined hence it is going to show name error\n"
     ]
    },
    {
     "ename": "NameError",
     "evalue": "name 'z' is not defined",
     "output_type": "error",
     "traceback": [
      "\u001b[0;31m---------------------------------------------------------------------------\u001b[0m",
      "\u001b[0;31mNameError\u001b[0m                                 Traceback (most recent call last)",
      "Cell \u001b[0;32mIn [9], line 22\u001b[0m\n\u001b[1;32m     17\u001b[0m \u001b[38;5;124;03m'''\u001b[39;00m\n\u001b[1;32m     18\u001b[0m \u001b[38;5;124;03mWhen exception is handled above code will run and give result, followed to running of below \u001b[39;00m\n\u001b[1;32m     19\u001b[0m \u001b[38;5;124;03mcode, which will show error as exception is not handled\u001b[39;00m\n\u001b[1;32m     20\u001b[0m \u001b[38;5;124;03m'''\u001b[39;00m\n\u001b[1;32m     21\u001b[0m \u001b[38;5;28mprint\u001b[39m(\u001b[38;5;124m\"\u001b[39m\u001b[38;5;124mHere \u001b[39m\u001b[38;5;124m'\u001b[39m\u001b[38;5;124mz\u001b[39m\u001b[38;5;124m'\u001b[39m\u001b[38;5;124m is not defined hence it is going to show name error\u001b[39m\u001b[38;5;124m\"\u001b[39m)\n\u001b[0;32m---> 22\u001b[0m \u001b[38;5;28mprint\u001b[39m(\u001b[43mz\u001b[49m)\n",
      "\u001b[0;31mNameError\u001b[0m: name 'z' is not defined"
     ]
    }
   ],
   "source": [
    "'''\n",
    "Q2. What happens when as exception is not handled? explain with an example.\n",
    "'''\n",
    "'''ANSWER'''\n",
    "'''\n",
    "When exception is not handled system will show an error\n",
    "and code after that will not be executed.\n",
    "Python executes code line by line therefore, it will not execute any code after the error.\n",
    "Therefore, exception handling is necessary to smooth running of our program.\n",
    "'''\n",
    "\n",
    "try:\n",
    "    print(z)\n",
    "except:\n",
    "    print(\"This is name error\")\n",
    "    \n",
    "'''\n",
    "When exception is handled above code will run and give result, followed to running of below \n",
    "code, which will show error as exception is not handled\n",
    "'''\n",
    "print(\"Here 'z' is not defined hence it is going to show name error\")\n",
    "print(z)"
   ]
  },
  {
   "cell_type": "code",
   "execution_count": 18,
   "id": "16cdc07a-2512-454b-8a38-bd5a9e21ee47",
   "metadata": {},
   "outputs": [
    {
     "name": "stdin",
     "output_type": "stream",
     "text": [
      "numerator 96\n",
      "denominator f\n"
     ]
    },
    {
     "name": "stdout",
     "output_type": "stream",
     "text": [
      "Check the input invalid literal for int() with base 10: 'f'\n",
      "program is completed\n"
     ]
    },
    {
     "data": {
      "text/plain": [
       "\"As we have handled exceptions last command is able to complete in all cases.\\nHere, we imported class 'Exception' so that it will print the error along with\\ngiven string in except code block.\\n\""
      ]
     },
     "execution_count": 18,
     "metadata": {},
     "output_type": "execute_result"
    }
   ],
   "source": [
    "'''\n",
    "Q3. Which python statements are used to catch and handle exceptions? \n",
    "explain with an example.\n",
    "'''\n",
    "'''ANSWER'''\n",
    "'''\n",
    "'try' and 'except' statements are used to catch and handle exceptions\n",
    "For example'''\n",
    "try:\n",
    "    num = int(input(\"numerator\"))\n",
    "    den = int(input(\"denominator\"))\n",
    "    div = num/den\n",
    "    print(\"result\",div)\n",
    "except Exception as e :\n",
    "    print(\"Check the input\",e)\n",
    "    \n",
    "print('program is completed')\n",
    "\n",
    "'''As we have handled exceptions last command is able to complete in all cases.\n",
    "Here, we imported class 'Exception' so that it will print the error along with\n",
    "given string in except code block.\n",
    "'''"
   ]
  },
  {
   "cell_type": "code",
   "execution_count": 37,
   "id": "cf79aa47-49ff-4708-84ff-7e45b8d462e9",
   "metadata": {},
   "outputs": [
    {
     "name": "stdin",
     "output_type": "stream",
     "text": [
      " 5\n",
      " 8\n"
     ]
    },
    {
     "name": "stdout",
     "output_type": "stream",
     "text": [
      "addition is 13\n"
     ]
    },
    {
     "name": "stdin",
     "output_type": "stream",
     "text": [
      " 7\n",
      " 32\n"
     ]
    },
    {
     "name": "stdout",
     "output_type": "stream",
     "text": [
      "Multiplication is 224\n",
      "operation is complete\n",
      "There is error Given input is string, provide number.\n",
      "operation is complete\n"
     ]
    }
   ],
   "source": [
    "'''\n",
    "Q4. Explain with an example:\n",
    "a. try and else\n",
    "b. finally\n",
    "c. raise\n",
    "'''\n",
    "'''ANSWER'''\n",
    "'''\n",
    "a. try and else\n",
    "try and else are used as keywords for exception handeling. try takes the argument\n",
    "for which exception need to be handled. when try statement shows exception, except statement\n",
    "will be run. If no exception arise in try statement then else statement is executed.\n",
    "'''\n",
    "try:\n",
    "    x = int(input())\n",
    "    y = int(input())\n",
    "    add = x+y\n",
    "except Exception as e :\n",
    "    print(\"There is error\",e)\n",
    "    \n",
    "else:\n",
    "    print(\"addition is\",add)\n",
    "\n",
    "'''\n",
    "b. finally\n",
    "finally statement is used when certain code is supposed to be executed irrespective\n",
    "of try-except is successfully run or not.\n",
    "statement under 'finally' will be run everytime.\n",
    "'''\n",
    "\n",
    "try:\n",
    "    x = int(input())\n",
    "    y = int(input())\n",
    "    multi = x*y\n",
    "except Exception as e :\n",
    "    print(\"There is error\",e)\n",
    "    \n",
    "else:\n",
    "    print(\"Multiplication is\",multi)\n",
    "finally:\n",
    "    print(\"operation is complete\")\n",
    "\n",
    "'''\n",
    "Here, we have error in else statement still 'finally' statement has been printed out.\n",
    "\n",
    "c. raise\n",
    "This keyword is used in custom exceptions. If a programmer want to provide some\n",
    "codition, and if this condition is not satisfied, then function with set exception can be assigned,\n",
    "which will raise exception when there is error.\n",
    "'''\n",
    "def addition(a,b):\n",
    "    if type(a) == str or type(b) == str:\n",
    "        raise TypeError (\"Given input is string, provide number.\")\n",
    "    return a + b\n",
    "        \n",
    "try:\n",
    "    add = addition(6,\"5\")\n",
    "except TypeError as e :\n",
    "    print(\"There is error\",e)\n",
    "    \n",
    "else:\n",
    "    print(\"addition is\",add)\n",
    "finally:\n",
    "    print(\"operation is complete\")"
   ]
  },
  {
   "cell_type": "code",
   "execution_count": 46,
   "id": "97d0167e-da15-408a-bd71-5fb7bcb85fcd",
   "metadata": {},
   "outputs": [
    {
     "name": "stdin",
     "output_type": "stream",
     "text": [
      "What is your age:  20\n"
     ]
    },
    {
     "name": "stdout",
     "output_type": "stream",
     "text": [
      "You are eligible!!\n"
     ]
    },
    {
     "data": {
      "text/plain": [
       "\"\\nHere, voting_ageError is custom exception created and added in 'Exception' class of python.\\nHence 'voting_ageError' inherited all properties of 'Exception' therefore, this program\\nsuccessfully treated it as exception.\\n\""
      ]
     },
     "execution_count": 46,
     "metadata": {},
     "output_type": "execute_result"
    }
   ],
   "source": [
    "'''\n",
    "Q5. What are custom exceptions in python? Why do we need custom exceptions?\n",
    "Explain with an example.\n",
    "'''\n",
    "'''ANSWER'''\n",
    "'''\n",
    "Custom exceptions are programmer-designed exceptions, which creates specific\n",
    "type of exeption. Such custom exceptions help programmer to find error easily and\n",
    "debug them precisely.\n",
    "'''\n",
    "class voting_ageError(Exception) :\n",
    "    def __init__(self, msg):\n",
    "        self.msg = msg\n",
    "        \n",
    "def validate_voting_age(age):\n",
    "    if age < 18:\n",
    "        raise voting_ageError(\"You must be 18+ for eligible for voting.\")\n",
    "    elif age > 130:\n",
    "        raise voting_ageError(\"Recheck the age entered, ensure to provide valid age.\")\n",
    "    else:\n",
    "        print(\"You are eligible!!\")\n",
    "        \n",
    "try:\n",
    "    age = int(input(\"What is your age: \"))\n",
    "    validate_voting_age(age)\n",
    "except voting_ageError as ve:\n",
    "    print(ve)\n",
    "    \n",
    "'''\n",
    "Here, voting_ageError is custom exception created and added in 'Exception' class of python.\n",
    "Hence 'voting_ageError' inherited all properties of 'Exception' therefore, this program\n",
    "successfully treated it as exception.\n",
    "'''\n",
    "              "
   ]
  },
  {
   "cell_type": "code",
   "execution_count": 51,
   "id": "e1ab5f59-a3f3-4fd7-84f2-84ac9b6a6061",
   "metadata": {},
   "outputs": [
    {
     "name": "stdin",
     "output_type": "stream",
     "text": [
      "Enter your amount:  250000\n"
     ]
    },
    {
     "name": "stdout",
     "output_type": "stream",
     "text": [
      "Payment amount is greater than one time trasaction limit.\n"
     ]
    }
   ],
   "source": [
    "'''\n",
    "Q6. Create a custom exception class. Use this class to handle an exception.\n",
    "'''\n",
    "'''ANSWER'''\n",
    "class limitError (Exception):\n",
    "    def __init__(self, amount):\n",
    "        self.amount = amount\n",
    "        \n",
    "def payment(amount):\n",
    "    if amount > 100000:\n",
    "        raise limitError (\"Payment amount is greater than one time trasaction limit.\")\n",
    "    elif amount<0:\n",
    "        raise limitError (\"Please enter valid amount.\")\n",
    "        \n",
    "    else:\n",
    "        print(\"Transaction successful\")\n",
    "        \n",
    "try:\n",
    "    amount = float(input(\"Enter your amount: \"))\n",
    "    payment(amount)\n",
    "except limitError as le:\n",
    "    print(le)\n"
   ]
  },
  {
   "cell_type": "code",
   "execution_count": null,
   "id": "daf3687b-7804-4111-bc06-3177d84b034d",
   "metadata": {},
   "outputs": [],
   "source": []
  }
 ],
 "metadata": {
  "kernelspec": {
   "display_name": "Python 3 (ipykernel)",
   "language": "python",
   "name": "python3"
  },
  "language_info": {
   "codemirror_mode": {
    "name": "ipython",
    "version": 3
   },
   "file_extension": ".py",
   "mimetype": "text/x-python",
   "name": "python",
   "nbconvert_exporter": "python",
   "pygments_lexer": "ipython3",
   "version": "3.10.6"
  }
 },
 "nbformat": 4,
 "nbformat_minor": 5
}
