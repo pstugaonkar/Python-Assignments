{
 "cells": [
  {
   "cell_type": "code",
   "execution_count": 9,
   "id": "5f0abdbd-9c63-400c-afcf-ab255713a526",
   "metadata": {},
   "outputs": [
    {
     "data": {
      "text/plain": [
       "'\\nGuido Van Rossum developed Python Programming Language.\\n'"
      ]
     },
     "execution_count": 9,
     "metadata": {},
     "output_type": "execute_result"
    }
   ],
   "source": [
    "'''\n",
    "Q1. Who developed Python Programming Language?\n",
    "'''\n",
    "'''ANSWER'''\n",
    "'''\n",
    "Guido Van Rossum developed Python Programming Language.\n",
    "'''"
   ]
  },
  {
   "cell_type": "code",
   "execution_count": 8,
   "id": "50d5d8be-596f-4175-be9c-9a89131c2add",
   "metadata": {},
   "outputs": [
    {
     "data": {
      "text/plain": [
       "'\\nPython supports object-oriented, structural and functional programming.\\nAlso, aspect-oriented programming supported by python\\n'"
      ]
     },
     "execution_count": 8,
     "metadata": {},
     "output_type": "execute_result"
    }
   ],
   "source": [
    "'''\n",
    "Q2. Which type of programming does Python support?\n",
    "'''\n",
    "'''ANSWER'''\n",
    "'''\n",
    "Python supports object-oriented, structural and functional programming.\n",
    "Also, aspect-oriented programming supported by python\n",
    "'''"
   ]
  },
  {
   "cell_type": "code",
   "execution_count": 5,
   "id": "c2e735e7-4e73-4e68-9fa4-65bec7f78ac6",
   "metadata": {},
   "outputs": [
    {
     "data": {
      "text/plain": [
       "'\\nYes, Python is case-sensitive in case of identifiers as well.\\n'"
      ]
     },
     "execution_count": 5,
     "metadata": {},
     "output_type": "execute_result"
    }
   ],
   "source": [
    "'''\n",
    "Q3. Is python case sensitive when dealing with identifiers?\n",
    "'''\n",
    "'''ANSWER'''\n",
    "'''\n",
    "Yes, Python is case-sensitive in case of identifiers as well.\n",
    "'''"
   ]
  },
  {
   "cell_type": "code",
   "execution_count": 10,
   "id": "41d5684f-57ff-4739-a5e5-508c5eac773a",
   "metadata": {},
   "outputs": [
    {
     "data": {
      "text/plain": [
       "\"\\nPython files will have extension '.py'.\\n\""
      ]
     },
     "execution_count": 10,
     "metadata": {},
     "output_type": "execute_result"
    }
   ],
   "source": [
    "'''\n",
    "Q4. What is the correct extension of the Python file?\n",
    "'''\n",
    "'''ANSWER'''\n",
    "'''\n",
    "Python files will have extension '.py'.\n",
    "'''"
   ]
  },
  {
   "cell_type": "code",
   "execution_count": 11,
   "id": "5c18f2b3-57bf-4eb7-878c-85e870cea75f",
   "metadata": {},
   "outputs": [
    {
     "data": {
      "text/plain": [
       "\"\\nPython language is both compiled and interpreted. The compilation part of python\\nis hidden from the programmer that's why python is considered as interpreted\\nlanguage.\\n\""
      ]
     },
     "execution_count": 11,
     "metadata": {},
     "output_type": "execute_result"
    }
   ],
   "source": [
    "'''\n",
    "Q5. Is Python code compiled or interpreted?\n",
    "'''\n",
    "'''ANSWER'''\n",
    "'''\n",
    "Python language is both compiled and interpreted. The compilation part of python\n",
    "is hidden from the programmer that's why python is considered as interpreted\n",
    "language.\n",
    "'''"
   ]
  },
  {
   "cell_type": "code",
   "execution_count": 44,
   "id": "2dfda0fe-1320-4409-8398-f9d642eb5338",
   "metadata": {},
   "outputs": [
    {
     "data": {
      "text/plain": [
       "'\\n1. Module\\n2. Function body\\n3. Class definition\\n'"
      ]
     },
     "execution_count": 44,
     "metadata": {},
     "output_type": "execute_result"
    }
   ],
   "source": [
    "'''\n",
    "Q6. Name a few blocks of code used to define in Python language.\n",
    "'''\n",
    "'''ANSWER'''\n",
    "'''\n",
    "1. Module\n",
    "2. Function body\n",
    "3. Class definition\n",
    "'''"
   ]
  },
  {
   "cell_type": "code",
   "execution_count": 14,
   "id": "bf4a5ca0-0dc7-4972-95c7-fb5c2eb0ac6b",
   "metadata": {},
   "outputs": [
    {
     "data": {
      "text/plain": [
       "'ANSWER'"
      ]
     },
     "execution_count": 14,
     "metadata": {},
     "output_type": "execute_result"
    }
   ],
   "source": [
    "'''\n",
    "Q7. State a character used to give single-line comments in Python.\n",
    "'''\n",
    "'''ANSWER'''\n",
    "# single'#' is used to give single line comment in python."
   ]
  },
  {
   "cell_type": "code",
   "execution_count": null,
   "id": "1a024d1b-14ec-44bd-aa65-335130ac4432",
   "metadata": {},
   "outputs": [],
   "source": []
  },
  {
   "cell_type": "code",
   "execution_count": 18,
   "id": "f3fbdd5a-aaf4-4554-a66d-e4796bbc99ee",
   "metadata": {},
   "outputs": [
    {
     "name": "stdout",
     "output_type": "stream",
     "text": [
      "3.10.6 | packaged by conda-forge | (main, Aug 22 2022, 20:35:26) [GCC 10.4.0]\n"
     ]
    }
   ],
   "source": [
    "'''\n",
    "Q8. Mention functions which can help us to find the version of python that\n",
    "we are currently working on?\n",
    "'''\n",
    "'''ANSWER'''\n",
    "\n",
    "import sys\n",
    "\n",
    "print(sys.version)"
   ]
  },
  {
   "cell_type": "code",
   "execution_count": 21,
   "id": "ddeed57b-20a3-4009-91de-76130625ed77",
   "metadata": {},
   "outputs": [
    {
     "data": {
      "text/plain": [
       "'Python supports the creation of anonymous functions at runtime, using a construct called lambda'"
      ]
     },
     "execution_count": 21,
     "metadata": {},
     "output_type": "execute_result"
    }
   ],
   "source": [
    "'''\n",
    "Q9. Python supports the creation of anonymous functions at runtime, using\n",
    "a construct called ________.\n",
    "'''\n",
    "'''ANSWER'''\n",
    "'Python supports the creation of anonymous functions at runtime, using a construct called lambda'"
   ]
  },
  {
   "cell_type": "code",
   "execution_count": 22,
   "id": "582d1420-4e79-4c97-a203-1db1a1af6396",
   "metadata": {},
   "outputs": [
    {
     "data": {
      "text/plain": [
       "\"pip stands for 'preferred installer program'\\n\""
      ]
     },
     "execution_count": 22,
     "metadata": {},
     "output_type": "execute_result"
    }
   ],
   "source": [
    "'''\n",
    "Q10. What does pip stand for in python?\n",
    "'''\n",
    "'''ANSWER'''\n",
    "'''pip stands for 'preferred installer program'\n",
    "'''\n"
   ]
  },
  {
   "cell_type": "code",
   "execution_count": 32,
   "id": "56dac687-e80b-47f1-81b1-c15de0eabef2",
   "metadata": {},
   "outputs": [
    {
     "name": "stdout",
     "output_type": "stream",
     "text": [
      "1\n",
      "yellow\n",
      "10\n",
      "11\n"
     ]
    }
   ],
   "source": [
    "'''\n",
    "Q11. Mention a few built-in functions in python.\n",
    "'''\n",
    "'''ANSWER'''\n",
    "'''print(), pow(), len() are some of built in functions'''\n",
    "'''\n",
    "print() gives output of the function. when pow() function used without\n",
    "print() function output '1' was not visible in the output, and also we were\n",
    "not getting error. print() function prints the output from the compiler.\n",
    "\n",
    "pow() function returns the value after multiplying base given power times.\n",
    "here 9, 0 is given means 9^0  = 1, according to indices rules.\n",
    "hence we are getting '1'.\n",
    "\n",
    "len() function returns the length of characters in given list, string or any\n",
    "other type of data set. Even blank spaces are considered in the length.\n",
    "'''\n",
    "print(pow(9,0))\n",
    "print(\"yellow\")\n",
    "print(len('assignment'))\n",
    "print(len('assignment '))\n"
   ]
  },
  {
   "cell_type": "code",
   "execution_count": 33,
   "id": "920a351c-bcba-4567-bf61-40e01afbd0bb",
   "metadata": {},
   "outputs": [
    {
     "data": {
      "text/plain": [
       "'Identifier can have maximum 79 characters in python.'"
      ]
     },
     "execution_count": 33,
     "metadata": {},
     "output_type": "execute_result"
    }
   ],
   "source": [
    "'''\n",
    "Q12. What is the maximum possible length of an identifier in python?\n",
    "'''\n",
    "'''ANSWER'''\n",
    "'''Identifier can have maximum 79 characters in python.'''"
   ]
  },
  {
   "cell_type": "code",
   "execution_count": 39,
   "id": "4631a2ac-41ad-45cd-a29e-7387ae6c6c30",
   "metadata": {},
   "outputs": [
    {
     "data": {
      "text/plain": [
       "'\\n1. Python can be utilized in various industries due to its flexibility provided\\nby various python libraries.\\n2. Python is easy to learn language.\\n3. Python provides high security, which makes it one of the most secure\\nprogramming languages.\\n'"
      ]
     },
     "execution_count": 39,
     "metadata": {},
     "output_type": "execute_result"
    }
   ],
   "source": [
    "'''\n",
    "Q13. What are the benefits of using python?\n",
    "'''\n",
    "'''ANSWER'''\n",
    "'''\n",
    "1. Python can be utilized in various industries due to its flexibility provided\n",
    "by various python libraries.\n",
    "2. Python is easy to learn language.\n",
    "3. Python provides high security, which makes it one of the most secure\n",
    "programming languages.\n",
    "'''"
   ]
  },
  {
   "cell_type": "code",
   "execution_count": 40,
   "id": "988fbeeb-09a9-416c-a4e6-ee175c9376e2",
   "metadata": {},
   "outputs": [
    {
     "data": {
      "text/plain": [
       "'\\nMemory management in Python involves a private heap containing all Python objects and data structures. The management of this private heap\\nis ensured internally by the Python memory manager.\\n'"
      ]
     },
     "execution_count": 40,
     "metadata": {},
     "output_type": "execute_result"
    }
   ],
   "source": [
    "'''\n",
    "Q14. How is memory managed in Python?\n",
    "'''\n",
    "'''ANSWER'''\n",
    "'''\n",
    "Memory management in Python involves a private heap containing all Python objects and data structures. The management of this private heap\n",
    "is ensured internally by the Python memory manager.\n",
    "'''\n"
   ]
  },
  {
   "cell_type": "code",
   "execution_count": 42,
   "id": "81dbe21d-2ef5-4a2a-bf84-0e0d925d4904",
   "metadata": {},
   "outputs": [
    {
     "data": {
      "text/plain": [
       "\"\\nSetup for latest python version can be downloaded from www.python.org.\\nRight click on My Computer ==> Properties \\n==>Advanced System setting ==>Environment Variable ==>New\\n==> enter 'path' in variable name.\\n\\nHere in variable path value, path where python is installed need to be pasted.\\nHence, path variable is done.\\n\""
      ]
     },
     "execution_count": 42,
     "metadata": {},
     "output_type": "execute_result"
    }
   ],
   "source": [
    "'''\n",
    "Q15. How to install Python on Windows and set path variables?\n",
    "'''\n",
    "'''ANSWER'''\n",
    "'''\n",
    "Setup for latest python version can be downloaded from www.python.org.\n",
    "Right click on My Computer ==> Properties \n",
    "==>Advanced System setting ==>Environment Variable ==>New\n",
    "==> enter 'path' in variable name.\n",
    "\n",
    "Here in variable path value, path where python is installed need to be pasted.\n",
    "Hence, path variable is done.\n",
    "'''"
   ]
  },
  {
   "cell_type": "code",
   "execution_count": 43,
   "id": "1ee1b32f-2544-453a-8391-a0fbcdd84909",
   "metadata": {},
   "outputs": [
    {
     "data": {
      "text/plain": [
       "'\\nIndentation plays important role in python.\\nIn case of loops, indentation is an indicator of starting and ending of the loops.\\n'"
      ]
     },
     "execution_count": 43,
     "metadata": {},
     "output_type": "execute_result"
    }
   ],
   "source": [
    "'''\n",
    "Q16. Is indentation required in python?\n",
    "'''\n",
    "'''ANSWER'''\n",
    "'''\n",
    "Indentation plays important role in python.\n",
    "In case of loops, indentation is an indicator of starting and ending of the loops.\n",
    "'''"
   ]
  },
  {
   "cell_type": "code",
   "execution_count": null,
   "id": "f4c4d5cb-053e-448a-8a75-ee613b277b27",
   "metadata": {},
   "outputs": [],
   "source": []
  }
 ],
 "metadata": {
  "kernelspec": {
   "display_name": "Python 3 (ipykernel)",
   "language": "python",
   "name": "python3"
  },
  "language_info": {
   "codemirror_mode": {
    "name": "ipython",
    "version": 3
   },
   "file_extension": ".py",
   "mimetype": "text/x-python",
   "name": "python",
   "nbconvert_exporter": "python",
   "pygments_lexer": "ipython3",
   "version": "3.10.6"
  }
 },
 "nbformat": 4,
 "nbformat_minor": 5
}
