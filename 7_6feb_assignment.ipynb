{
 "cells": [
  {
   "cell_type": "code",
   "execution_count": 3,
   "id": "9e35da76-ceaf-4240-97d1-a0416cf93e6c",
   "metadata": {},
   "outputs": [],
   "source": [
    "'''\n",
    "Q1. Create a function which will take a list as an argument and return the product of all the numbers\n",
    "after creating a flat list.\n",
    "Use the below-given list as an argument for your function.\n",
    "list1 = [1,2,3,4, [44,55,66, True], False, (34,56,78,89,34), {1,2,3,3,2,1}, {1:34, \"key2\": [55, 67, 78, 89], 4: (45,\n",
    "22, 61, 34)}, [56, 'data science'], 'Machine Learning']\n",
    "Note: you must extract numeric keys and values of the dictionary also.\n",
    "'''\n",
    "list1 = [1,2,3,4, [44,55,66, True], False, (34,56,78,89,34), {1,2,3,3,2,1}, {1:34, \"key2\": [55, 67, 78, 89], 4: (45,\n",
    "22, 61, 34)}, [56, 'data science'], 'Machine Learning']\n",
    "\n",
    "def product_int_list(list1):\n",
    "    a = []\n",
    "    for i in range(len(list1)):\n",
    "        if type(list1[i]) == list or type(list1[i]) == tuple or type(list1[i]) == set:\n",
    "            for element in list1[i]:\n",
    "                if type(element) == int:\n",
    "                    a.append(element)\n",
    "                else:\n",
    "                    if type(element) == list or type(element) == tuple:\n",
    "                        for j in element:\n",
    "                            if type(j) == int:\n",
    "                                a.append(j)\n",
    "                            else:\n",
    "                                if type(j) == list:\n",
    "                                    for k in j:\n",
    "                                        if type(k) == int:\n",
    "                                            a.append(k)\n",
    "\n",
    "        elif type(list1[i]) == int:\n",
    "            a.append(list1[i])\n",
    "        else:\n",
    "            if type(list1[i]) == dict:\n",
    "                dict_list = list(list1[i].items())\n",
    "                for u in dict_list:\n",
    "                    if type(u) == list or type(u) == tuple:\n",
    "                        for l in u:\n",
    "                            if type(l) == list or type(l) == tuple:\n",
    "                                for m in l:\n",
    "                                    if type(m) == int:\n",
    "                                        a.append(m)\n",
    "                            else:\n",
    "                                if type(l) == int:\n",
    "                                    a.append(l)\n",
    "                                    \n",
    "    print(a)\n",
    "    n = 1\n",
    "    for i in a:\n",
    "        n = n*i\n",
    "    print(n)"
   ]
  },
  {
   "cell_type": "code",
   "execution_count": 4,
   "id": "298c3338-2c1a-4c22-a132-fd5d11cbd6e2",
   "metadata": {},
   "outputs": [
    {
     "name": "stdout",
     "output_type": "stream",
     "text": [
      "[1, 2, 3, 4, 44, 55, 66, 34, 56, 78, 89, 34, 1, 2, 3, 1, 34, 55, 67, 78, 89, 4, 45, 22, 61, 34, 56]\n",
      "4134711838987085478833841242112000\n"
     ]
    }
   ],
   "source": [
    "product_int_list(list1)"
   ]
  },
  {
   "cell_type": "code",
   "execution_count": 4,
   "id": "bd18efce-ee5a-4e23-bcc4-98ad58887ae3",
   "metadata": {},
   "outputs": [
    {
     "name": "stdout",
     "output_type": "stream",
     "text": [
      "Encrypted message is: r$dzmg$gl$yvxlnv$z$wzgz$hxrvmgrhg.\n"
     ]
    }
   ],
   "source": [
    "'''\n",
    "Write a python program for encrypting a message sent to you by your friend. The logic of encryption\n",
    "should be such that, for a the output should be z. For b, the output should be y. For c, the output should\n",
    "be x respectively. Also, the whitespace should be replaced with a dollar sign. Keep the punctuation\n",
    "marks unchanged.\n",
    "\n",
    "\n",
    "Input Sentence: I want to become a Data Scientist.\n",
    "\n",
    "\n",
    "Encrypt the above input sentence using the program you just created.\n",
    "\n",
    "\n",
    "Note: Convert the given input sentence into lowercase before encrypting. The final output should be\n",
    "lowercase.\n",
    "'''\n",
    "def encrypt_message(message):\n",
    "    encrypted_message = \"\"\n",
    "    for char in message.lower():\n",
    "        if char.isalpha():\n",
    "            encrypted_message += chr(219 - ord(char))\n",
    "        elif char == \" \":\n",
    "            encrypted_message += \"$\"\n",
    "        else:\n",
    "            encrypted_message += char\n",
    "    return encrypted_message.lower()\n",
    "input_sentence = \"I want to become a Data Scientist.\"\n",
    "encrypted_sentence = encrypt_message(input_sentence)\n",
    "print(\"Encrypted message is:\", encrypted_sentence)"
   ]
  },
  {
   "cell_type": "code",
   "execution_count": null,
   "id": "4be21f69-e880-4ea3-bb7b-0fa5ed8e4cf0",
   "metadata": {},
   "outputs": [],
   "source": []
  }
 ],
 "metadata": {
  "kernelspec": {
   "display_name": "Python 3 (ipykernel)",
   "language": "python",
   "name": "python3"
  },
  "language_info": {
   "codemirror_mode": {
    "name": "ipython",
    "version": 3
   },
   "file_extension": ".py",
   "mimetype": "text/x-python",
   "name": "python",
   "nbconvert_exporter": "python",
   "pygments_lexer": "ipython3",
   "version": "3.10.6"
  }
 },
 "nbformat": 4,
 "nbformat_minor": 5
}
