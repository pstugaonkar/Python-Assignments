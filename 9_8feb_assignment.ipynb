{
 "cells": [
  {
   "cell_type": "code",
   "execution_count": 64,
   "id": "0f45233b-42b8-4bc5-af20-a0e15cd4f10f",
   "metadata": {},
   "outputs": [],
   "source": [
    "'''\n",
    "Q1. What is Abstraction in OOPs? Explain with an example.\n",
    "'''\n",
    "'''ANSWER'''\n",
    "'''\n",
    "If we do not want user to go through complex coding in the background of interface, abstraction method in OOPs can be used.\n",
    "In abstraction method, we can store all the codes in a perticular class, and access of that code can be given into another class.\n",
    "So, user need not go through or need not do any changes into our main class, but he can able to use code present in main class through some another\n",
    "class. User just need to enter parameters and call the function. To do abstraction in python one need to import module 'abc'.\n",
    "The method without ant implementation is abstract method. The main class in following example is 'shape', which contain two abstract methods\n",
    "'rectangle' and 'circle', and there is no any implementation, just pass command. The two subclasses 'area' and 'perimeter' have implementations.\n",
    "class area and perimeter are then assigned into variable area and perimeter respectively. When we call area or perimeter, we can select method\n",
    "from main class 'shape' and after providing inputs(i.e parameters, radius, length, etc) we get the respective value.\n",
    "\n",
    "'''\n",
    "import abc\n",
    "\n",
    "class shape:\n",
    "    @abc.abstractmethod\n",
    "    def rectangle(self):\n",
    "        pass\n",
    "    @abc.abstractmethod\n",
    "    def circle(self):\n",
    "        pass\n",
    "        \n",
    "import math\n",
    "class area(shape):\n",
    "    def rectangle(self, length, breadth):\n",
    "        self.length = length\n",
    "        self.breadth = breadth\n",
    "        return (self.length*self.breadth)\n",
    "    def circle(self, radius):\n",
    "        self.radius = radius\n",
    "        area = math.pi * (self.radius**2)\n",
    "        return area\n",
    "class perimeter(shape):\n",
    "    def rectangle(self, length, breadth):\n",
    "        self.length = length\n",
    "        self.breadth = breadth\n",
    "        per = 2*(self.length+ self.breadth)\n",
    "        return per\n",
    "    def circle(self, radius):\n",
    "        self.radius = radius\n",
    "        per = 2*math.pi* self.radius\n",
    "        return per \n",
    "    \n",
    "area = area()\n",
    "perimeter = perimeter()"
   ]
  },
  {
   "cell_type": "code",
   "execution_count": 65,
   "id": "1c86167a-fbb8-45fe-a3b4-1045c40f59c1",
   "metadata": {},
   "outputs": [
    {
     "data": {
      "text/plain": [
       "69.11503837897544"
      ]
     },
     "execution_count": 65,
     "metadata": {},
     "output_type": "execute_result"
    }
   ],
   "source": [
    "perimeter.circle(11)"
   ]
  },
  {
   "cell_type": "code",
   "execution_count": 67,
   "id": "3cced16c-067c-4d61-b39a-6765f1dc1aff",
   "metadata": {},
   "outputs": [
    {
     "data": {
      "text/plain": [
       "1256.6370614359173"
      ]
     },
     "execution_count": 67,
     "metadata": {},
     "output_type": "execute_result"
    }
   ],
   "source": [
    "area.circle(20)"
   ]
  },
  {
   "cell_type": "code",
   "execution_count": 98,
   "id": "8e84406e-b4a5-4929-93d3-359e8a7786f8",
   "metadata": {},
   "outputs": [
    {
     "name": "stdout",
     "output_type": "stream",
     "text": [
      "Rohan\n",
      "Chandni chowk, Delhi\n",
      "Krunal\n",
      "Mishra\n",
      "This will show error as 'address' is encapsulated.\n",
      "This will print first_name\n",
      "This will print last_name\n"
     ]
    },
    {
     "data": {
      "text/plain": [
       "'\\nAs seen from above codes, we can call one class object from another class in case of abstraction. but in encapsulation we cannot\\nget encapsulated information in the output\\n'"
      ]
     },
     "execution_count": 98,
     "metadata": {},
     "output_type": "execute_result"
    }
   ],
   "source": [
    "'''\n",
    "Q2. Differentiate between Abstraction and Encapsulation. Explain with an example.\n",
    "'''\n",
    "'''\n",
    "Abstraction hide the complex code in the background, and reduce complexity of process for the user. User can still go through the background code\n",
    "and modify if he or she wants.\n",
    "Encapsulation is used for sensitive information in the code. The encapsulated bit of code will not be visible to user, and user will not be able to\n",
    "access it. If user want to access encapsulated info, the programmer need to provide 'get' or 'set' functions, without which user cannot access\n",
    "the encapsulated code. We can make code encapsulated by adding '__' before variable in the function.\n",
    "'''\n",
    "class individual:\n",
    "    def __init__(self, first_name, last_name, address, contact):\n",
    "        self.first_name = first_name\n",
    "        self.last_name = last_name\n",
    "        self.address = address\n",
    "        self.contact = contact\n",
    "individual_1 = individual(\"Rohan\",\"Dixit\",\"Chandni chowk, Delhi\",8475206989)\n",
    "print(individual_1.first_name)\n",
    "print(individual_1.address)\n",
    "'''Now in next code we have encapsulated 'address' and 'contact' hence user will not able to get that information'''\n",
    "class individual1:\n",
    "    def __init__(self, first_name, last_name, address, contact):\n",
    "        self.first_name = first_name\n",
    "        self.last_name = last_name\n",
    "        self.__address = address\n",
    "        self.__contact = contact\n",
    "individual_2 = individual1(\"Krunal\",\"Mishra\",\"Lalbaug, Mumbai\",7700000088)\n",
    "print(individual_2.first_name)\n",
    "print(individual_2.last_name)\n",
    "try:\n",
    "    print(individual_2.__address)\n",
    "except:\n",
    "    print(\"This will show error as 'address' is encapsulated.\") # try and except used so that abstraction code can be run\n",
    "\n",
    "###### Abstraction#####\n",
    "import abc\n",
    "\n",
    "class individual:\n",
    "    @abc.abstractmethod\n",
    "    def first_name(self):\n",
    "        pass\n",
    "    @abc.abstractmethod\n",
    "    def last_name(self):\n",
    "        pass\n",
    "    \n",
    "class details(individual):\n",
    "    def first_name(self):\n",
    "        '''It is a docstring.'''\n",
    "        print(\"This will print first_name\")\n",
    "    def last_name(self):\n",
    "        print(\"This will print last_name\")\n",
    "\n",
    "dt = details()\n",
    "dt.first_name()\n",
    "dt.last_name()\n",
    "\n",
    "'''\n",
    "As seen from above codes, we can call one class object from another class in case of abstraction. but in encapsulation we cannot\n",
    "get encapsulated information in the output\n",
    "'''"
   ]
  },
  {
   "cell_type": "code",
   "execution_count": null,
   "id": "b46a0215-a3fc-429f-a4af-14e5ec1356d5",
   "metadata": {},
   "outputs": [],
   "source": []
  },
  {
   "cell_type": "code",
   "execution_count": 1,
   "id": "395ad4cd-a234-4c2b-b7e9-57cf5993134c",
   "metadata": {},
   "outputs": [
    {
     "data": {
      "text/plain": [
       "\"\\n'abc' is abstract base class module which is used to establish abstract class.\\nabstract class is nothing but the class with one or more abstract methods.\\nwhenever we want to define abstract method in the class we can use this abc module.\\n\""
      ]
     },
     "execution_count": 1,
     "metadata": {},
     "output_type": "execute_result"
    }
   ],
   "source": [
    "'''\n",
    "Q3. What is abc module in python? Why is it used?\n",
    "'''\n",
    "'''ANSWER'''\n",
    "'''\n",
    "'abc' is abstract base class module which is used to establish abstract class.\n",
    "abstract class is nothing but the class with one or more abstract methods.\n",
    "whenever we want to define abstract method in the class we can use this abc module.\n",
    "'''"
   ]
  },
  {
   "cell_type": "code",
   "execution_count": 2,
   "id": "5e0cb2ad-b2f1-47ca-9d03-3f6c2bcd87ba",
   "metadata": {},
   "outputs": [
    {
     "data": {
      "text/plain": [
       "'\\nWe can achieve data abstraction by creating abstract classes and abstract method in those classes.\\n'"
      ]
     },
     "execution_count": 2,
     "metadata": {},
     "output_type": "execute_result"
    }
   ],
   "source": [
    "'''\n",
    "Q4. How can we achieve data abstraction?\n",
    "'''\n",
    "'''ANSWER'''\n",
    "'''\n",
    "We can achieve data abstraction by creating abstract classes and abstract method in those classes.\n",
    "'''"
   ]
  },
  {
   "cell_type": "code",
   "execution_count": 3,
   "id": "efd09023-3dcd-48fc-95a6-bedee36db4da",
   "metadata": {},
   "outputs": [
    {
     "data": {
      "text/plain": [
       "'\\nWe cannot create instance of an abstract class as there are no implementations in the abstract class.\\nRather we can make subclass with implementations and make instances there. We can define constructors as abstract methods in abstract class\\nwhich can call the instance in subclass.\\n'"
      ]
     },
     "execution_count": 3,
     "metadata": {},
     "output_type": "execute_result"
    }
   ],
   "source": [
    "'''\n",
    "Q5. Can we create an instance of an abstract class? Explain your answer.\n",
    "'''\n",
    "'''ANSWER'''\n",
    "'''\n",
    "We cannot create instance of an abstract class as there are no implementations in the abstract class.\n",
    "Rather we can make subclass with implementations and make instances there. We can define constructors as abstract methods in abstract class\n",
    "which can call the instance in subclass.\n",
    "'''"
   ]
  },
  {
   "cell_type": "code",
   "execution_count": null,
   "id": "306dfd3a-daea-475a-8470-ee1f1dc3446a",
   "metadata": {},
   "outputs": [],
   "source": []
  },
  {
   "cell_type": "code",
   "execution_count": null,
   "id": "dcb43131-ee15-4bdc-a56c-c35e1883641c",
   "metadata": {},
   "outputs": [],
   "source": []
  },
  {
   "cell_type": "code",
   "execution_count": null,
   "id": "87b76958-d919-49bb-9de3-b4a78458ed1d",
   "metadata": {},
   "outputs": [],
   "source": []
  }
 ],
 "metadata": {
  "kernelspec": {
   "display_name": "Python 3 (ipykernel)",
   "language": "python",
   "name": "python3"
  },
  "language_info": {
   "codemirror_mode": {
    "name": "ipython",
    "version": 3
   },
   "file_extension": ".py",
   "mimetype": "text/x-python",
   "name": "python",
   "nbconvert_exporter": "python",
   "pygments_lexer": "ipython3",
   "version": "3.10.6"
  }
 },
 "nbformat": 4,
 "nbformat_minor": 5
}
