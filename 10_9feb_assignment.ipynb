{
 "cells": [
  {
   "cell_type": "code",
   "execution_count": 34,
   "id": "67e8ffdb-fa8f-4953-98c0-fb7bcc9bb4d6",
   "metadata": {},
   "outputs": [
    {
     "name": "stdout",
     "output_type": "stream",
     "text": [
      "Nexon\n",
      "180\n",
      "25\n"
     ]
    }
   ],
   "source": [
    "'''\n",
    "Q1. Create a vehicle class with an init method having instance variables as name_of_vehicle, max_speed\n",
    "and average_of_vehicle.\n",
    "'''\n",
    "\n",
    "class vehicle:\n",
    "    def __init__(self, name_of_vehicle, max_speed, average_of_vehicle):\n",
    "        self.name_of_vehicle = name_of_vehicle\n",
    "        self.max_speed = max_speed\n",
    "        self.average_of_vehicle = average_of_vehicle\n",
    "        \n",
    "vh = vehicle(\"Nexon\",180,25)\n",
    "print(vh.name_of_vehicle)\n",
    "print(vh.max_speed)\n",
    "print(vh.average_of_vehicle)"
   ]
  },
  {
   "cell_type": "code",
   "execution_count": 35,
   "id": "40d86f7c-b6d4-42cd-8eeb-b9f17ccb1120",
   "metadata": {},
   "outputs": [],
   "source": [
    "'''\n",
    "Q2. Create a child class car from the vehicle class created in Que 1, which will inherit the vehicle class.\n",
    "Create a method named seating_capacity which takes capacity as an argument and returns the name of\n",
    "the vehicle and its seating capacity.\n",
    "'''\n",
    "\n",
    "class car(vehicle):\n",
    "    def seating_capacity(self,seating_capacity):\n",
    "        self.seating_capacity = seating_capacity\n",
    "        return self.name_of_vehicle, self.seating_capacity\n"
   ]
  },
  {
   "cell_type": "code",
   "execution_count": 37,
   "id": "c8fa88e9-3b41-447d-8b10-0d8b5c431edb",
   "metadata": {},
   "outputs": [
    {
     "name": "stdout",
     "output_type": "stream",
     "text": [
      "('Maruti', 5)\n"
     ]
    }
   ],
   "source": [
    "c = car(\"Maruti\", 180, 25)\n",
    "print(c.seating_capacity(5))"
   ]
  },
  {
   "cell_type": "code",
   "execution_count": 76,
   "id": "38671cb7-ffdb-48a2-a813-983e679b25a0",
   "metadata": {},
   "outputs": [
    {
     "name": "stdout",
     "output_type": "stream",
     "text": [
      "Father earns 90000\n",
      "Mother earns 50000\n",
      "Toatal family income is 140000\n",
      "Total family expenditure is 75000\n",
      "Total family savings is 65000\n"
     ]
    },
    {
     "data": {
      "text/plain": [
       "\"\\nAs seen in the above example object 'ex' has been assigned with only one class expenses, but we have inherited expenses class with 'class father'\\nand 'class mother'. Therefore, we can call functions father_earning and mother_earning from 'class expenses' as well. This is the example of multiple \\ninheritance.\\n\""
      ]
     },
     "execution_count": 76,
     "metadata": {},
     "output_type": "execute_result"
    }
   ],
   "source": [
    "'''\n",
    "Q3. What is multiple inheritance? Write a python code to demonstrate multiple inheritance.\n",
    "'''\n",
    "'''ANSWER'''\n",
    "'''\n",
    "When a perticular class have methods or attributes from more than one parent class, this type of inheritance is called multiple inheritance.\n",
    "'''\n",
    "class father:\n",
    "    def father_earning(self):\n",
    "        print(\"Father earns\",90000)\n",
    "class mother:\n",
    "    def mother_earning(self):\n",
    "        print(\"Mother earns\",50000)\n",
    "        \n",
    "class expenses(father, mother):\n",
    "    def expenses(self):\n",
    "        total = 90000+50000\n",
    "        expenses = total - 65000\n",
    "        balance = total - expenses\n",
    "        print(\"Toatal family income is\",total)\n",
    "        print(\"Total family expenditure is\",expenses)\n",
    "        print(\"Total family savings is\",balance)\n",
    "        \n",
    "ex = expenses()\n",
    "ex.father_earning()\n",
    "ex.mother_earning()\n",
    "ex.expenses()\n",
    "\n",
    "'''\n",
    "As seen in the above example object 'ex' has been assigned with only one class expenses, but we have inherited expenses class with 'class father'\n",
    "and 'class mother'. Therefore, we can call functions father_earning and mother_earning from 'class expenses' as well. This is the example of multiple \n",
    "inheritance.\n",
    "'''"
   ]
  },
  {
   "cell_type": "code",
   "execution_count": 125,
   "id": "e9c9f59e-b9ac-460b-a55a-07731bd6d3be",
   "metadata": {},
   "outputs": [
    {
     "name": "stdout",
     "output_type": "stream",
     "text": [
      "<__main__.results object at 0x7eff4f1883d0>\n",
      "Initial English marks shown with getter: 80\n",
      "Initial Maths marks: 60\n",
      "rohan.__English will show attribute error \n",
      "\n",
      "Setting new English marks with setter: 85\n",
      "Updated English marks: 85 \n",
      "\n",
      "Setting new Maths marks with setter: 89\n",
      "89\n"
     ]
    }
   ],
   "source": [
    "'''\n",
    "Q4. What are getter and setter in python? Create a class and create a getter and a setter method in this\n",
    "class.\n",
    "'''\n",
    "'''ANSWER'''\n",
    "'''\n",
    "When we encapsulate any variable in function, it gets hidden from user. User cannot see or modify  that variable unless such provisions are made in the\n",
    "function. Getter is such method which allows user to see variable and its value in the given function, this method does not allow any modifications.\n",
    "Setter is a method which allows modifications in the variable and set any value that user want. Programmer can provide some conditions in the setter\n",
    "method so that user can set values within the restrictions.\n",
    "'''\n",
    "'''\n",
    "In this example we have encapsulated English and Maths marks therefore, when we directly call 'results' class we were not getting any meaningful result.\n",
    "This is because English and Maths functions are encapsulated. 'Property' function can be used to for 'getter' method so that English and Maths marks can\n",
    "be seen. We can give 'setter' function so that user can modify the marks of English and Maths accordingly.\n",
    "'''\n",
    "class results:\n",
    "    def __init__(self,English, Maths):\n",
    "        self.__English = English\n",
    "        self.__Maths = Maths\n",
    "        \n",
    "    @property\n",
    "    def english_marks(self):\n",
    "        return self.__English\n",
    "    @property\n",
    "    def maths_marks(self):\n",
    "        return self.__Maths\n",
    "    @english_marks.setter\n",
    "    def set_english_marks(self,marks):\n",
    "        if 70<marks<90:\n",
    "            self.__English = marks\n",
    "        else:\n",
    "            pass\n",
    "    @maths_marks.setter\n",
    "    def set_maths_marks(self,marks):\n",
    "        if 70<marks<90:\n",
    "            self.__Maths = marks\n",
    "        else:\n",
    "            pass\n",
    "\n",
    "print(results(90,78))\n",
    "rohan = results(80,60)\n",
    "print(\"Initial English marks shown with getter:\",rohan.english_marks)\n",
    "print(\"Initial Maths marks:\",rohan.maths_marks)\n",
    "try:\n",
    "    print(rohan.__English)\n",
    "except:\n",
    "    print(\"rohan.__English will show attribute error\",'\\n')\n",
    "\n",
    "print(\"Setting new English marks with setter: 85\")\n",
    "rohan.set_english_marks = 85\n",
    "print(\"Updated English marks:\",rohan.english_marks,'\\n')\n",
    "\n",
    "print(\"Setting new Maths marks with setter: 89\")\n",
    "rohan.set_maths_marks = 89\n",
    "print(rohan.maths_marks)\n"
   ]
  },
  {
   "cell_type": "code",
   "execution_count": 139,
   "id": "d1e799cd-9ce3-4529-aa62-41a4c44340fc",
   "metadata": {},
   "outputs": [
    {
     "name": "stdout",
     "output_type": "stream",
     "text": [
      "This is from superclass\n",
      "This is from subclass\n"
     ]
    }
   ],
   "source": [
    "'''\n",
    "Q5. What is method overriding in python? Write a python code to demonstrate method overriding.\n",
    "'''\n",
    "'''ANSWER'''\n",
    "'''\n",
    "When subclass is inherited from from superclass, we can call attributes of superclass from subclass as well.\n",
    "But, when subclass have its own attributes along with inherited attributes, with same name then rather than invoking attributes from superclass\n",
    "it will invoke attributes from subclass only. This situation is called method overriding. Even though subclass have inherited superclass methods or\n",
    "attributes, but we won't be able invoke superclass attributes.\n",
    "'''\n",
    "\n",
    "class superclass:\n",
    "    def attribute(self):\n",
    "        print(\"This is from superclass\")\n",
    "        \n",
    "class subclass(superclass):\n",
    "    def attribute(self):\n",
    "        print(\"This is from subclass\")\n",
    "        \n",
    "sp = superclass()\n",
    "sb = subclass()\n",
    "sp.attribute()\n",
    "sb.attribute()"
   ]
  }
 ],
 "metadata": {
  "kernelspec": {
   "display_name": "Python 3 (ipykernel)",
   "language": "python",
   "name": "python3"
  },
  "language_info": {
   "codemirror_mode": {
    "name": "ipython",
    "version": 3
   },
   "file_extension": ".py",
   "mimetype": "text/x-python",
   "name": "python",
   "nbconvert_exporter": "python",
   "pygments_lexer": "ipython3",
   "version": "3.10.6"
  }
 },
 "nbformat": 4,
 "nbformat_minor": 5
}
